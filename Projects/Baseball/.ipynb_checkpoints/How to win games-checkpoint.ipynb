{
 "cells": [
  {
   "cell_type": "markdown",
   "metadata": {},
   "source": [
    "# How to win baseball games"
   ]
  },
  {
   "cell_type": "markdown",
   "metadata": {},
   "source": [
    "### Introduction"
   ]
  },
  {
   "cell_type": "markdown",
   "metadata": {},
   "source": [
    "Baseball is an American past time, it's full of legend and lore, instilled deep within the fabric of the American dream. To many it is more than a game. However as data scientists, we don't worry ourselves too much about the emotional aspects of things, especially when there is a quantitative advantage to be had. The name of the game is Baseball and the goal is to score runs in order to win. The question is; how do you score more runs? Luckily for us, Baseball is a sport in which statistics are meticulously recorded and scrutinized. In this notebook, we'll take the romantic aspects of the game and put them aside, we'll be using numbers and statistical analysis to build a winning team."
   ]
  },
  {
   "cell_type": "markdown",
   "metadata": {},
   "source": [
    "### The Data"
   ]
  },
  {
   "cell_type": "markdown",
   "metadata": {},
   "source": [
    "The dataset we will be using Kaggle's 'The History of Baseball' which is a reformatted version of 'Lahman's Baseball Database'. It contains data from 1871 to 2015. The data is stored in the form of a small SQLite database."
   ]
  },
  {
   "cell_type": "code",
   "execution_count": 1,
   "metadata": {
    "collapsed": true
   },
   "outputs": [],
   "source": [
    "# loading required modules \n",
    "import pandas as pd\n",
    "import numpy as np\n",
    "import sqlite3\n",
    "conn = sqlite3.connect('/Users/robinphetsavong/Documents/robinphetsa.github.io/data_science/data-projects/Projects/Baseball/baseball/database.sqlite')\n",
    "c = conn.cursor()"
   ]
  },
  {
   "cell_type": "raw",
   "metadata": {},
   "source": [
    "#### Our query\n",
    "\n",
    "SELECT \n",
    "t.team_id,\n",
    "b.year,\n",
    "t.w as wins,\n",
    "t.l as losses,\n",
    "SUM(b.r) as runs,\n",
    "SUM(b.h) as hits,\n",
    "SUM(b.ab) as atbats,\n",
    "SUM(b.sf) as sacflies,\n",
    "SUM(b.hbp) as hitbypitch,\n",
    "SUM(b.bb) as baseonballs\n",
    "SUM(b.double) as doubles,\n",
    "SUM(b.triple) as triples,\n",
    "SUM(b.hr) as hr,\n",
    "SUM(b.rbi) as rbi,\n",
    "SUM(b.sb) as sb,\n",
    "SUM(s.salary) as payroll\n",
    " \n",
    "FROM batting b\n",
    "INNER JOIN team t on b.team_id = t.team_id and b.year = t.year\n",
    "LEFT JOIN salary s on b.team_id = s.team_id and b.year = s.year and b.player_id = s.player_id\n",
    "\n",
    "GROUP BY t.team_id, b.year\n",
    "ORDER BY b.year, t.team_id;\n"
   ]
  },
  {
   "cell_type": "code",
   "execution_count": 40,
   "metadata": {
    "collapsed": false
   },
   "outputs": [],
   "source": [
    "#Read in data using sql\n",
    "\n",
    "batting_data = pd.read_sql_query(\"SELECT t.team_id,b.year,t.w as wins,t.l as losses,SUM(b.r) as runs,SUM(b.h) as hits,SUM(b.ab) as atbats,SUM(b.sf) as sacflies,SUM(b.hbp) as hitbypitch,SUM(b.bb) as baseonballs,SUM(b.double) as doubles,SUM(b.triple) as triples,SUM(b.hr) as hr,SUM(b.rbi) as rbi,SUM(b.sb) as sb,SUM(s.salary) as payroll FROM batting b INNER JOIN team t on b.team_id = t.team_id and b.year = t.year LEFT JOIN salary s on b.team_id = s.team_id and b.year = s.year and b.player_id = s.player_id GROUP BY t.team_id, b.year ORDER BY b.year, t.team_id;\", conn)"
   ]
  },
  {
   "cell_type": "code",
   "execution_count": 41,
   "metadata": {
    "collapsed": false
   },
   "outputs": [
    {
     "name": "stdout",
     "output_type": "stream",
     "text": [
      "<class 'pandas.core.frame.DataFrame'>\n",
      "RangeIndex: 2805 entries, 0 to 2804\n",
      "Data columns (total 16 columns):\n",
      "team_id        2805 non-null object\n",
      "year           2805 non-null int64\n",
      "wins           2805 non-null int64\n",
      "losses         2805 non-null int64\n",
      "runs           2805 non-null float64\n",
      "hits           2805 non-null float64\n",
      "atbats         2805 non-null float64\n",
      "sacflies       2805 non-null float64\n",
      "hitbypitch     2805 non-null float64\n",
      "baseonballs    2805 non-null float64\n",
      "doubles        2805 non-null float64\n",
      "triples        2805 non-null float64\n",
      "hr             2805 non-null float64\n",
      "rbi            2805 non-null float64\n",
      "sb             2805 non-null float64\n",
      "payroll        888 non-null float64\n",
      "dtypes: float64(12), int64(3), object(1)\n",
      "memory usage: 350.7+ KB\n"
     ]
    }
   ],
   "source": [
    "batting_data.info()"
   ]
  },
  {
   "cell_type": "markdown",
   "metadata": {},
   "source": [
    "### Feature Engineering"
   ]
  },
  {
   "cell_type": "markdown",
   "metadata": {},
   "source": [
    "We'll be adding three more statistics to the dataframe:\n",
    "* Batting Average\n",
    "* On Base Percentage\n",
    "* Slugging Percentage\n",
    "* On Base and Slugging Percentage"
   ]
  },
  {
   "cell_type": "markdown",
   "metadata": {},
   "source": [
    "#### Batting Average"
   ]
  },
  {
   "cell_type": "code",
   "execution_count": 25,
   "metadata": {
    "collapsed": true
   },
   "outputs": [],
   "source": [
    "# create a function that calculates the batting average\n",
    "def get_bavg(x):\n",
    "    H = x['hits']\n",
    "    AB = x['atbats']\n",
    "    if AB == 0 or H == 0:\n",
    "        return 0\n",
    "    else:\n",
    "        return H/AB"
   ]
  },
  {
   "cell_type": "code",
   "execution_count": 42,
   "metadata": {
    "collapsed": false
   },
   "outputs": [],
   "source": [
    "# apply the function to our dataframe\n",
    "batting_data['ba'] = batting_data.apply(get_bavg, axis=1)"
   ]
  },
  {
   "cell_type": "markdown",
   "metadata": {},
   "source": [
    "##### On Base Percentage"
   ]
  },
  {
   "cell_type": "code",
   "execution_count": 27,
   "metadata": {
    "collapsed": true
   },
   "outputs": [],
   "source": [
    "# define a function to calculate the OBP that takes in a dataframe as a parameter\n",
    "def get_obp(x):\n",
    "    H = x['hits']\n",
    "    BB = x['baseonballs']\n",
    "    HBP = x['hitbypitch']\n",
    "    SF = x['sacflies']\n",
    "    AB = x['atbats']\n",
    "    Denominator = (AB+BB+HBP+SF)\n",
    "#    if Denominator == 0:\n",
    "#        Denominator = 0.001 #prevent python from approximating to zero and getting div by zero errors\n",
    "    if AB == 0:\n",
    "        return 0\n",
    "    else:\n",
    "        return (H+BB+HBP)/Denominator"
   ]
  },
  {
   "cell_type": "code",
   "execution_count": 43,
   "metadata": {
    "collapsed": true
   },
   "outputs": [],
   "source": [
    "batting_data['obp'] = batting_data.apply(get_obp, axis=1)"
   ]
  },
  {
   "cell_type": "markdown",
   "metadata": {},
   "source": [
    "##### Singles"
   ]
  },
  {
   "cell_type": "code",
   "execution_count": 29,
   "metadata": {
    "collapsed": true
   },
   "outputs": [],
   "source": [
    "# Function to calculate singles\n",
    "def get_singles(x):\n",
    "    H = x['hits']\n",
    "    doubles = x['doubles']\n",
    "    triples = x['triples']\n",
    "    HR = x['hr']\n",
    "    singles = H-(doubles-triples-HR)\n",
    "    if singles <=0:\n",
    "        return 0\n",
    "    else:\n",
    "        return singles"
   ]
  },
  {
   "cell_type": "code",
   "execution_count": 44,
   "metadata": {
    "collapsed": true
   },
   "outputs": [],
   "source": [
    "batting_data['singles'] = batting_data.apply(get_singles, axis=1)"
   ]
  },
  {
   "cell_type": "markdown",
   "metadata": {},
   "source": [
    "##### Slugging Percentage"
   ]
  },
  {
   "cell_type": "code",
   "execution_count": 33,
   "metadata": {
    "collapsed": true
   },
   "outputs": [],
   "source": [
    "def get_slg(x):\n",
    "    H = x['hits']\n",
    "    doubles = x['doubles']\n",
    "    triples = x['triples']\n",
    "    HR = x['hr']\n",
    "    singles = x['singles']\n",
    "    AB = x['atbats']\n",
    "    if AB == 0:\n",
    "        return 0\n",
    "    else:\n",
    "        return (singles + 2*doubles + 3*triples + 4*HR)/(AB)"
   ]
  },
  {
   "cell_type": "code",
   "execution_count": 45,
   "metadata": {
    "collapsed": false
   },
   "outputs": [],
   "source": [
    "batting_data['slg'] = batting_data.apply(get_slg,axis=1)"
   ]
  },
  {
   "cell_type": "markdown",
   "metadata": {},
   "source": [
    "#### On-base plus slugging"
   ]
  },
  {
   "cell_type": "code",
   "execution_count": 54,
   "metadata": {
    "collapsed": true
   },
   "outputs": [],
   "source": [
    "def get_ops(x):\n",
    "    obp = x['obp']\n",
    "    slg = x['slg']\n",
    "    return obp+slg"
   ]
  },
  {
   "cell_type": "code",
   "execution_count": 55,
   "metadata": {
    "collapsed": false
   },
   "outputs": [],
   "source": [
    "batting_data['ops'] = batting_data.apply(get_ops,axis=1)"
   ]
  },
  {
   "cell_type": "code",
   "execution_count": 56,
   "metadata": {
    "collapsed": false
   },
   "outputs": [
    {
     "data": {
      "text/html": [
       "<div>\n",
       "<table border=\"1\" class=\"dataframe\">\n",
       "  <thead>\n",
       "    <tr style=\"text-align: right;\">\n",
       "      <th></th>\n",
       "      <th>team_id</th>\n",
       "      <th>year</th>\n",
       "      <th>wins</th>\n",
       "      <th>losses</th>\n",
       "      <th>runs</th>\n",
       "      <th>hits</th>\n",
       "      <th>atbats</th>\n",
       "      <th>sacflies</th>\n",
       "      <th>hitbypitch</th>\n",
       "      <th>baseonballs</th>\n",
       "      <th>...</th>\n",
       "      <th>triples</th>\n",
       "      <th>hr</th>\n",
       "      <th>rbi</th>\n",
       "      <th>sb</th>\n",
       "      <th>payroll</th>\n",
       "      <th>ba</th>\n",
       "      <th>obp</th>\n",
       "      <th>singles</th>\n",
       "      <th>slg</th>\n",
       "      <th>ops</th>\n",
       "    </tr>\n",
       "  </thead>\n",
       "  <tbody>\n",
       "    <tr>\n",
       "      <th>0</th>\n",
       "      <td>BS1</td>\n",
       "      <td>1871</td>\n",
       "      <td>20</td>\n",
       "      <td>10</td>\n",
       "      <td>401</td>\n",
       "      <td>426</td>\n",
       "      <td>1372</td>\n",
       "      <td>0</td>\n",
       "      <td>0</td>\n",
       "      <td>60</td>\n",
       "      <td>...</td>\n",
       "      <td>37</td>\n",
       "      <td>3</td>\n",
       "      <td>267</td>\n",
       "      <td>73</td>\n",
       "      <td>NaN</td>\n",
       "      <td>0.310496</td>\n",
       "      <td>0.339385</td>\n",
       "      <td>396</td>\n",
       "      <td>0.480321</td>\n",
       "      <td>0.819706</td>\n",
       "    </tr>\n",
       "    <tr>\n",
       "      <th>1</th>\n",
       "      <td>CH1</td>\n",
       "      <td>1871</td>\n",
       "      <td>19</td>\n",
       "      <td>9</td>\n",
       "      <td>302</td>\n",
       "      <td>323</td>\n",
       "      <td>1196</td>\n",
       "      <td>0</td>\n",
       "      <td>0</td>\n",
       "      <td>60</td>\n",
       "      <td>...</td>\n",
       "      <td>21</td>\n",
       "      <td>10</td>\n",
       "      <td>193</td>\n",
       "      <td>69</td>\n",
       "      <td>NaN</td>\n",
       "      <td>0.270067</td>\n",
       "      <td>0.304936</td>\n",
       "      <td>302</td>\n",
       "      <td>0.425585</td>\n",
       "      <td>0.730522</td>\n",
       "    </tr>\n",
       "    <tr>\n",
       "      <th>2</th>\n",
       "      <td>CL1</td>\n",
       "      <td>1871</td>\n",
       "      <td>10</td>\n",
       "      <td>19</td>\n",
       "      <td>249</td>\n",
       "      <td>328</td>\n",
       "      <td>1186</td>\n",
       "      <td>0</td>\n",
       "      <td>0</td>\n",
       "      <td>26</td>\n",
       "      <td>...</td>\n",
       "      <td>40</td>\n",
       "      <td>7</td>\n",
       "      <td>164</td>\n",
       "      <td>18</td>\n",
       "      <td>NaN</td>\n",
       "      <td>0.276560</td>\n",
       "      <td>0.292079</td>\n",
       "      <td>340</td>\n",
       "      <td>0.470489</td>\n",
       "      <td>0.762568</td>\n",
       "    </tr>\n",
       "    <tr>\n",
       "      <th>3</th>\n",
       "      <td>FW1</td>\n",
       "      <td>1871</td>\n",
       "      <td>7</td>\n",
       "      <td>12</td>\n",
       "      <td>137</td>\n",
       "      <td>178</td>\n",
       "      <td>746</td>\n",
       "      <td>0</td>\n",
       "      <td>0</td>\n",
       "      <td>33</td>\n",
       "      <td>...</td>\n",
       "      <td>8</td>\n",
       "      <td>2</td>\n",
       "      <td>94</td>\n",
       "      <td>16</td>\n",
       "      <td>NaN</td>\n",
       "      <td>0.238606</td>\n",
       "      <td>0.270860</td>\n",
       "      <td>169</td>\n",
       "      <td>0.320375</td>\n",
       "      <td>0.591235</td>\n",
       "    </tr>\n",
       "    <tr>\n",
       "      <th>4</th>\n",
       "      <td>NY2</td>\n",
       "      <td>1871</td>\n",
       "      <td>16</td>\n",
       "      <td>17</td>\n",
       "      <td>302</td>\n",
       "      <td>403</td>\n",
       "      <td>1404</td>\n",
       "      <td>0</td>\n",
       "      <td>0</td>\n",
       "      <td>33</td>\n",
       "      <td>...</td>\n",
       "      <td>21</td>\n",
       "      <td>1</td>\n",
       "      <td>213</td>\n",
       "      <td>46</td>\n",
       "      <td>NaN</td>\n",
       "      <td>0.287037</td>\n",
       "      <td>0.303410</td>\n",
       "      <td>382</td>\n",
       "      <td>0.381054</td>\n",
       "      <td>0.684464</td>\n",
       "    </tr>\n",
       "    <tr>\n",
       "      <th>5</th>\n",
       "      <td>PH1</td>\n",
       "      <td>1871</td>\n",
       "      <td>21</td>\n",
       "      <td>7</td>\n",
       "      <td>376</td>\n",
       "      <td>410</td>\n",
       "      <td>1281</td>\n",
       "      <td>0</td>\n",
       "      <td>0</td>\n",
       "      <td>46</td>\n",
       "      <td>...</td>\n",
       "      <td>27</td>\n",
       "      <td>9</td>\n",
       "      <td>250</td>\n",
       "      <td>56</td>\n",
       "      <td>NaN</td>\n",
       "      <td>0.320062</td>\n",
       "      <td>0.343632</td>\n",
       "      <td>380</td>\n",
       "      <td>0.491023</td>\n",
       "      <td>0.834655</td>\n",
       "    </tr>\n",
       "    <tr>\n",
       "      <th>6</th>\n",
       "      <td>RC1</td>\n",
       "      <td>1871</td>\n",
       "      <td>4</td>\n",
       "      <td>21</td>\n",
       "      <td>231</td>\n",
       "      <td>274</td>\n",
       "      <td>1036</td>\n",
       "      <td>0</td>\n",
       "      <td>0</td>\n",
       "      <td>38</td>\n",
       "      <td>...</td>\n",
       "      <td>25</td>\n",
       "      <td>3</td>\n",
       "      <td>147</td>\n",
       "      <td>53</td>\n",
       "      <td>NaN</td>\n",
       "      <td>0.264479</td>\n",
       "      <td>0.290503</td>\n",
       "      <td>258</td>\n",
       "      <td>0.417954</td>\n",
       "      <td>0.708456</td>\n",
       "    </tr>\n",
       "  </tbody>\n",
       "</table>\n",
       "<p>7 rows × 21 columns</p>\n",
       "</div>"
      ],
      "text/plain": [
       "  team_id  year  wins  losses  runs  hits  atbats  sacflies  hitbypitch  \\\n",
       "0     BS1  1871    20      10   401   426    1372         0           0   \n",
       "1     CH1  1871    19       9   302   323    1196         0           0   \n",
       "2     CL1  1871    10      19   249   328    1186         0           0   \n",
       "3     FW1  1871     7      12   137   178     746         0           0   \n",
       "4     NY2  1871    16      17   302   403    1404         0           0   \n",
       "5     PH1  1871    21       7   376   410    1281         0           0   \n",
       "6     RC1  1871     4      21   231   274    1036         0           0   \n",
       "\n",
       "   baseonballs    ...     triples  hr  rbi  sb  payroll        ba       obp  \\\n",
       "0           60    ...          37   3  267  73      NaN  0.310496  0.339385   \n",
       "1           60    ...          21  10  193  69      NaN  0.270067  0.304936   \n",
       "2           26    ...          40   7  164  18      NaN  0.276560  0.292079   \n",
       "3           33    ...           8   2   94  16      NaN  0.238606  0.270860   \n",
       "4           33    ...          21   1  213  46      NaN  0.287037  0.303410   \n",
       "5           46    ...          27   9  250  56      NaN  0.320062  0.343632   \n",
       "6           38    ...          25   3  147  53      NaN  0.264479  0.290503   \n",
       "\n",
       "   singles       slg       ops  \n",
       "0      396  0.480321  0.819706  \n",
       "1      302  0.425585  0.730522  \n",
       "2      340  0.470489  0.762568  \n",
       "3      169  0.320375  0.591235  \n",
       "4      382  0.381054  0.684464  \n",
       "5      380  0.491023  0.834655  \n",
       "6      258  0.417954  0.708456  \n",
       "\n",
       "[7 rows x 21 columns]"
      ]
     },
     "execution_count": 56,
     "metadata": {},
     "output_type": "execute_result"
    }
   ],
   "source": [
    "# Lets check our data\n",
    "\n",
    "batting_data.head(7)"
   ]
  },
  {
   "cell_type": "markdown",
   "metadata": {},
   "source": [
    "#### Cleaning up the dataframe"
   ]
  },
  {
   "cell_type": "code",
   "execution_count": 47,
   "metadata": {
    "collapsed": true
   },
   "outputs": [],
   "source": [
    "batting_data['runs'] = batting_data['runs'].astype(int)\n",
    "batting_data['hits'] = batting_data['hits'].astype(int)\n",
    "batting_data['atbats'] = batting_data['atbats'].astype(int)\n",
    "batting_data['sacflies'] = batting_data['sacflies'].astype(int)\n",
    "batting_data['hitbypitch'] = batting_data['hitbypitch'].astype(int)\n",
    "batting_data['baseonballs'] = batting_data['baseonballs'].astype(int)\n",
    "batting_data['doubles'] = batting_data['doubles'].astype(int)\n",
    "batting_data['triples'] = batting_data['triples'].astype(int)\n",
    "batting_data['hr'] = batting_data['hr'].astype(int)\n",
    "batting_data['rbi'] = batting_data['rbi'].astype(int)\n",
    "batting_data['sb'] = batting_data['sb'].astype(int)\n",
    "batting_data['singles'] = batting_data['singles'].astype(int)"
   ]
  },
  {
   "cell_type": "code",
   "execution_count": 57,
   "metadata": {
    "collapsed": false
   },
   "outputs": [
    {
     "data": {
      "text/html": [
       "<div>\n",
       "<table border=\"1\" class=\"dataframe\">\n",
       "  <thead>\n",
       "    <tr style=\"text-align: right;\">\n",
       "      <th></th>\n",
       "      <th>team_id</th>\n",
       "      <th>year</th>\n",
       "      <th>wins</th>\n",
       "      <th>losses</th>\n",
       "      <th>runs</th>\n",
       "      <th>hits</th>\n",
       "      <th>atbats</th>\n",
       "      <th>sacflies</th>\n",
       "      <th>hitbypitch</th>\n",
       "      <th>baseonballs</th>\n",
       "      <th>...</th>\n",
       "      <th>triples</th>\n",
       "      <th>hr</th>\n",
       "      <th>rbi</th>\n",
       "      <th>sb</th>\n",
       "      <th>payroll</th>\n",
       "      <th>ba</th>\n",
       "      <th>obp</th>\n",
       "      <th>singles</th>\n",
       "      <th>slg</th>\n",
       "      <th>ops</th>\n",
       "    </tr>\n",
       "  </thead>\n",
       "  <tbody>\n",
       "    <tr>\n",
       "      <th>2798</th>\n",
       "      <td>SEA</td>\n",
       "      <td>2015</td>\n",
       "      <td>76</td>\n",
       "      <td>86</td>\n",
       "      <td>656</td>\n",
       "      <td>1379</td>\n",
       "      <td>5544</td>\n",
       "      <td>35</td>\n",
       "      <td>36</td>\n",
       "      <td>478</td>\n",
       "      <td>...</td>\n",
       "      <td>22</td>\n",
       "      <td>198</td>\n",
       "      <td>624</td>\n",
       "      <td>69</td>\n",
       "      <td>122208700.0</td>\n",
       "      <td>0.248737</td>\n",
       "      <td>0.310684</td>\n",
       "      <td>1337</td>\n",
       "      <td>0.490440</td>\n",
       "      <td>0.801125</td>\n",
       "    </tr>\n",
       "    <tr>\n",
       "      <th>2799</th>\n",
       "      <td>SFN</td>\n",
       "      <td>2015</td>\n",
       "      <td>84</td>\n",
       "      <td>78</td>\n",
       "      <td>696</td>\n",
       "      <td>1486</td>\n",
       "      <td>5565</td>\n",
       "      <td>37</td>\n",
       "      <td>49</td>\n",
       "      <td>457</td>\n",
       "      <td>...</td>\n",
       "      <td>39</td>\n",
       "      <td>136</td>\n",
       "      <td>663</td>\n",
       "      <td>93</td>\n",
       "      <td>164701500.0</td>\n",
       "      <td>0.267026</td>\n",
       "      <td>0.326130</td>\n",
       "      <td>1373</td>\n",
       "      <td>0.469003</td>\n",
       "      <td>0.795132</td>\n",
       "    </tr>\n",
       "    <tr>\n",
       "      <th>2800</th>\n",
       "      <td>SLN</td>\n",
       "      <td>2015</td>\n",
       "      <td>100</td>\n",
       "      <td>62</td>\n",
       "      <td>647</td>\n",
       "      <td>1386</td>\n",
       "      <td>5484</td>\n",
       "      <td>42</td>\n",
       "      <td>66</td>\n",
       "      <td>506</td>\n",
       "      <td>...</td>\n",
       "      <td>39</td>\n",
       "      <td>137</td>\n",
       "      <td>619</td>\n",
       "      <td>69</td>\n",
       "      <td>119241500.0</td>\n",
       "      <td>0.252735</td>\n",
       "      <td>0.321089</td>\n",
       "      <td>1274</td>\n",
       "      <td>0.458607</td>\n",
       "      <td>0.779696</td>\n",
       "    </tr>\n",
       "    <tr>\n",
       "      <th>2801</th>\n",
       "      <td>TBA</td>\n",
       "      <td>2015</td>\n",
       "      <td>80</td>\n",
       "      <td>82</td>\n",
       "      <td>644</td>\n",
       "      <td>1383</td>\n",
       "      <td>5485</td>\n",
       "      <td>47</td>\n",
       "      <td>84</td>\n",
       "      <td>436</td>\n",
       "      <td>...</td>\n",
       "      <td>32</td>\n",
       "      <td>167</td>\n",
       "      <td>612</td>\n",
       "      <td>87</td>\n",
       "      <td>62821233.0</td>\n",
       "      <td>0.252142</td>\n",
       "      <td>0.314442</td>\n",
       "      <td>1304</td>\n",
       "      <td>0.478396</td>\n",
       "      <td>0.792837</td>\n",
       "    </tr>\n",
       "    <tr>\n",
       "      <th>2802</th>\n",
       "      <td>TEX</td>\n",
       "      <td>2015</td>\n",
       "      <td>88</td>\n",
       "      <td>74</td>\n",
       "      <td>751</td>\n",
       "      <td>1419</td>\n",
       "      <td>5511</td>\n",
       "      <td>54</td>\n",
       "      <td>76</td>\n",
       "      <td>503</td>\n",
       "      <td>...</td>\n",
       "      <td>32</td>\n",
       "      <td>172</td>\n",
       "      <td>707</td>\n",
       "      <td>101</td>\n",
       "      <td>143742789.0</td>\n",
       "      <td>0.257485</td>\n",
       "      <td>0.325195</td>\n",
       "      <td>1344</td>\n",
       "      <td>0.487389</td>\n",
       "      <td>0.812584</td>\n",
       "    </tr>\n",
       "    <tr>\n",
       "      <th>2803</th>\n",
       "      <td>TOR</td>\n",
       "      <td>2015</td>\n",
       "      <td>93</td>\n",
       "      <td>69</td>\n",
       "      <td>891</td>\n",
       "      <td>1480</td>\n",
       "      <td>5509</td>\n",
       "      <td>62</td>\n",
       "      <td>54</td>\n",
       "      <td>570</td>\n",
       "      <td>...</td>\n",
       "      <td>17</td>\n",
       "      <td>232</td>\n",
       "      <td>852</td>\n",
       "      <td>88</td>\n",
       "      <td>112992400.0</td>\n",
       "      <td>0.268651</td>\n",
       "      <td>0.339629</td>\n",
       "      <td>1421</td>\n",
       "      <td>0.547468</td>\n",
       "      <td>0.887097</td>\n",
       "    </tr>\n",
       "    <tr>\n",
       "      <th>2804</th>\n",
       "      <td>WAS</td>\n",
       "      <td>2015</td>\n",
       "      <td>83</td>\n",
       "      <td>79</td>\n",
       "      <td>703</td>\n",
       "      <td>1363</td>\n",
       "      <td>5428</td>\n",
       "      <td>51</td>\n",
       "      <td>44</td>\n",
       "      <td>539</td>\n",
       "      <td>...</td>\n",
       "      <td>13</td>\n",
       "      <td>177</td>\n",
       "      <td>665</td>\n",
       "      <td>57</td>\n",
       "      <td>155587472.0</td>\n",
       "      <td>0.251105</td>\n",
       "      <td>0.321016</td>\n",
       "      <td>1288</td>\n",
       "      <td>0.472550</td>\n",
       "      <td>0.793566</td>\n",
       "    </tr>\n",
       "  </tbody>\n",
       "</table>\n",
       "<p>7 rows × 21 columns</p>\n",
       "</div>"
      ],
      "text/plain": [
       "     team_id  year  wins  losses  runs  hits  atbats  sacflies  hitbypitch  \\\n",
       "2798     SEA  2015    76      86   656  1379    5544        35          36   \n",
       "2799     SFN  2015    84      78   696  1486    5565        37          49   \n",
       "2800     SLN  2015   100      62   647  1386    5484        42          66   \n",
       "2801     TBA  2015    80      82   644  1383    5485        47          84   \n",
       "2802     TEX  2015    88      74   751  1419    5511        54          76   \n",
       "2803     TOR  2015    93      69   891  1480    5509        62          54   \n",
       "2804     WAS  2015    83      79   703  1363    5428        51          44   \n",
       "\n",
       "      baseonballs    ...     triples   hr  rbi   sb      payroll        ba  \\\n",
       "2798          478    ...          22  198  624   69  122208700.0  0.248737   \n",
       "2799          457    ...          39  136  663   93  164701500.0  0.267026   \n",
       "2800          506    ...          39  137  619   69  119241500.0  0.252735   \n",
       "2801          436    ...          32  167  612   87   62821233.0  0.252142   \n",
       "2802          503    ...          32  172  707  101  143742789.0  0.257485   \n",
       "2803          570    ...          17  232  852   88  112992400.0  0.268651   \n",
       "2804          539    ...          13  177  665   57  155587472.0  0.251105   \n",
       "\n",
       "           obp  singles       slg       ops  \n",
       "2798  0.310684     1337  0.490440  0.801125  \n",
       "2799  0.326130     1373  0.469003  0.795132  \n",
       "2800  0.321089     1274  0.458607  0.779696  \n",
       "2801  0.314442     1304  0.478396  0.792837  \n",
       "2802  0.325195     1344  0.487389  0.812584  \n",
       "2803  0.339629     1421  0.547468  0.887097  \n",
       "2804  0.321016     1288  0.472550  0.793566  \n",
       "\n",
       "[7 rows x 21 columns]"
      ]
     },
     "execution_count": 57,
     "metadata": {},
     "output_type": "execute_result"
    }
   ],
   "source": [
    "batting_data.tail(7)"
   ]
  },
  {
   "cell_type": "code",
   "execution_count": 58,
   "metadata": {
    "collapsed": false
   },
   "outputs": [
    {
     "name": "stdout",
     "output_type": "stream",
     "text": [
      "<class 'pandas.core.frame.DataFrame'>\n",
      "RangeIndex: 2805 entries, 0 to 2804\n",
      "Data columns (total 21 columns):\n",
      "team_id        2805 non-null object\n",
      "year           2805 non-null int64\n",
      "wins           2805 non-null int64\n",
      "losses         2805 non-null int64\n",
      "runs           2805 non-null int64\n",
      "hits           2805 non-null int64\n",
      "atbats         2805 non-null int64\n",
      "sacflies       2805 non-null int64\n",
      "hitbypitch     2805 non-null int64\n",
      "baseonballs    2805 non-null int64\n",
      "doubles        2805 non-null int64\n",
      "triples        2805 non-null int64\n",
      "hr             2805 non-null int64\n",
      "rbi            2805 non-null int64\n",
      "sb             2805 non-null int64\n",
      "payroll        888 non-null float64\n",
      "ba             2805 non-null float64\n",
      "obp            2805 non-null float64\n",
      "singles        2805 non-null int64\n",
      "slg            2805 non-null float64\n",
      "ops            2805 non-null float64\n",
      "dtypes: float64(5), int64(15), object(1)\n",
      "memory usage: 460.3+ KB\n"
     ]
    }
   ],
   "source": [
    "# lets take a look at the columns we have now\n",
    "batting_data.info()"
   ]
  },
  {
   "cell_type": "code",
   "execution_count": 65,
   "metadata": {
    "collapsed": false
   },
   "outputs": [
    {
     "data": {
      "text/html": [
       "<iframe id=\"igraph\" scrolling=\"no\" style=\"border:none;\" seamless=\"seamless\" src=\"https://plot.ly/~robinphetsa/238.embed\" height=\"525px\" width=\"100%\"></iframe>"
      ],
      "text/plain": [
       "<plotly.tools.PlotlyDisplay object>"
      ]
     },
     "execution_count": 65,
     "metadata": {},
     "output_type": "execute_result"
    }
   ],
   "source": [
    "import plotly.plotly as py\n",
    "import plotly.graph_objs as go\n",
    "from plotly import tools\n",
    "\n",
    "series1 = go.Scatter(\n",
    "    x = batting_data.obp,\n",
    "    y = batting_data.runs,\n",
    "    mode = 'markers',\n",
    "    name= 'obp vs runs',\n",
    "    marker= dict(size= 1,\n",
    "                    line= dict(width=1),\n",
    "                    color = '#ffff00'\n",
    "                   ),\n",
    ")\n",
    "\n",
    "\n",
    "series2 = go.Scatter(\n",
    "    x = batting_data.hr,\n",
    "    y = batting_data.runs,\n",
    "    mode = 'markers',\n",
    "    name= 'hr vs runs',\n",
    "    marker= dict(size= 2,\n",
    "                    line= dict(width=1),\n",
    "                    color = '#009933'\n",
    "                   ),\n",
    ")\n",
    "\n",
    "\n",
    "\n",
    "\n",
    "data = [series1]\n",
    "\n",
    "layout = dict(title = 'Correlation between Runs and OBP',\n",
    "              xaxis = dict(title = 'On Base Percentage'),\n",
    "              yaxis= dict(title = 'Runs Scored')\n",
    "             )\n",
    "\n",
    "fig = dict(data=data, layout=layout)\n",
    "\n",
    "py.iplot(fig)"
   ]
  },
  {
   "cell_type": "code",
   "execution_count": null,
   "metadata": {
    "collapsed": true
   },
   "outputs": [],
   "source": []
  }
 ],
 "metadata": {
  "kernelspec": {
   "display_name": "Python 2",
   "language": "python",
   "name": "python2"
  },
  "language_info": {
   "codemirror_mode": {
    "name": "ipython",
    "version": 2
   },
   "file_extension": ".py",
   "mimetype": "text/x-python",
   "name": "python",
   "nbconvert_exporter": "python",
   "pygments_lexer": "ipython2",
   "version": "2.7.11"
  }
 },
 "nbformat": 4,
 "nbformat_minor": 0
}
