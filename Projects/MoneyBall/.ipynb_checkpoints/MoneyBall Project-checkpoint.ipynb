{
 "cells": [
  {
   "cell_type": "markdown",
   "metadata": {},
   "source": [
    "# Moneyball\n",
    "### Using Statistics to help the Oakland A's become competitive "
   ]
  },
  {
   "cell_type": "markdown",
   "metadata": {},
   "source": [
    "##### This is the capstone data project in Jose Portilla's Data Science with R course implemented in Python"
   ]
  },
  {
   "cell_type": "markdown",
   "metadata": {},
   "source": [
    "In 2002, the Oakland Athletic's made prominent use of statistical analysis to obtain undervalued players and front a competitive team with the third lowest salary in the Majors. They reevaluated key player performance metrics, discovering that older statistics such as RBI's and Batting Average where no good indicators of player performance. Instead they focused on metrics like 'On Base Percentage' and 'Slugging Percentage' as indicators of good offense. In this notebook, we will pretend to go back in time and help the Oakland A's find such talent that has been overlooked and undervalued by the rest of the league."
   ]
  },
  {
   "cell_type": "code",
   "execution_count": 58,
   "metadata": {
    "collapsed": true
   },
   "outputs": [],
   "source": [
    "#imports\n",
    "%matplotlib inline\n",
    "import pandas as pd\n",
    "import numpy as np\n",
    "from matplotlib import pyplot as plt"
   ]
  },
  {
   "cell_type": "markdown",
   "metadata": {},
   "source": [
    " ## Reading in the data"
   ]
  },
  {
   "cell_type": "code",
   "execution_count": 131,
   "metadata": {
    "collapsed": false
   },
   "outputs": [
    {
     "data": {
      "text/html": [
       "<div>\n",
       "<table border=\"1\" class=\"dataframe\">\n",
       "  <thead>\n",
       "    <tr style=\"text-align: right;\">\n",
       "      <th></th>\n",
       "      <th>playerID</th>\n",
       "      <th>yearID</th>\n",
       "      <th>stint</th>\n",
       "      <th>teamID</th>\n",
       "      <th>lgID</th>\n",
       "      <th>G</th>\n",
       "      <th>G_batting</th>\n",
       "      <th>AB</th>\n",
       "      <th>R</th>\n",
       "      <th>H</th>\n",
       "      <th>...</th>\n",
       "      <th>SB</th>\n",
       "      <th>CS</th>\n",
       "      <th>BB</th>\n",
       "      <th>SO</th>\n",
       "      <th>IBB</th>\n",
       "      <th>HBP</th>\n",
       "      <th>SH</th>\n",
       "      <th>SF</th>\n",
       "      <th>GIDP</th>\n",
       "      <th>G_old</th>\n",
       "    </tr>\n",
       "  </thead>\n",
       "  <tbody>\n",
       "    <tr>\n",
       "      <th>0</th>\n",
       "      <td>aardsda01</td>\n",
       "      <td>2004</td>\n",
       "      <td>1</td>\n",
       "      <td>SFN</td>\n",
       "      <td>NL</td>\n",
       "      <td>11</td>\n",
       "      <td>11.0</td>\n",
       "      <td>0.0</td>\n",
       "      <td>0.0</td>\n",
       "      <td>0.0</td>\n",
       "      <td>...</td>\n",
       "      <td>0.0</td>\n",
       "      <td>0.0</td>\n",
       "      <td>0.0</td>\n",
       "      <td>0.0</td>\n",
       "      <td>0.0</td>\n",
       "      <td>0.0</td>\n",
       "      <td>0.0</td>\n",
       "      <td>0.0</td>\n",
       "      <td>0.0</td>\n",
       "      <td>11.0</td>\n",
       "    </tr>\n",
       "    <tr>\n",
       "      <th>1</th>\n",
       "      <td>aardsda01</td>\n",
       "      <td>2006</td>\n",
       "      <td>1</td>\n",
       "      <td>CHN</td>\n",
       "      <td>NL</td>\n",
       "      <td>45</td>\n",
       "      <td>43.0</td>\n",
       "      <td>2.0</td>\n",
       "      <td>0.0</td>\n",
       "      <td>0.0</td>\n",
       "      <td>...</td>\n",
       "      <td>0.0</td>\n",
       "      <td>0.0</td>\n",
       "      <td>0.0</td>\n",
       "      <td>0.0</td>\n",
       "      <td>0.0</td>\n",
       "      <td>0.0</td>\n",
       "      <td>1.0</td>\n",
       "      <td>0.0</td>\n",
       "      <td>0.0</td>\n",
       "      <td>45.0</td>\n",
       "    </tr>\n",
       "    <tr>\n",
       "      <th>2</th>\n",
       "      <td>aardsda01</td>\n",
       "      <td>2007</td>\n",
       "      <td>1</td>\n",
       "      <td>CHA</td>\n",
       "      <td>AL</td>\n",
       "      <td>25</td>\n",
       "      <td>2.0</td>\n",
       "      <td>0.0</td>\n",
       "      <td>0.0</td>\n",
       "      <td>0.0</td>\n",
       "      <td>...</td>\n",
       "      <td>0.0</td>\n",
       "      <td>0.0</td>\n",
       "      <td>0.0</td>\n",
       "      <td>0.0</td>\n",
       "      <td>0.0</td>\n",
       "      <td>0.0</td>\n",
       "      <td>0.0</td>\n",
       "      <td>0.0</td>\n",
       "      <td>0.0</td>\n",
       "      <td>2.0</td>\n",
       "    </tr>\n",
       "    <tr>\n",
       "      <th>3</th>\n",
       "      <td>aardsda01</td>\n",
       "      <td>2008</td>\n",
       "      <td>1</td>\n",
       "      <td>BOS</td>\n",
       "      <td>AL</td>\n",
       "      <td>47</td>\n",
       "      <td>5.0</td>\n",
       "      <td>1.0</td>\n",
       "      <td>0.0</td>\n",
       "      <td>0.0</td>\n",
       "      <td>...</td>\n",
       "      <td>0.0</td>\n",
       "      <td>0.0</td>\n",
       "      <td>0.0</td>\n",
       "      <td>1.0</td>\n",
       "      <td>0.0</td>\n",
       "      <td>0.0</td>\n",
       "      <td>0.0</td>\n",
       "      <td>0.0</td>\n",
       "      <td>0.0</td>\n",
       "      <td>5.0</td>\n",
       "    </tr>\n",
       "    <tr>\n",
       "      <th>4</th>\n",
       "      <td>aardsda01</td>\n",
       "      <td>2009</td>\n",
       "      <td>1</td>\n",
       "      <td>SEA</td>\n",
       "      <td>AL</td>\n",
       "      <td>73</td>\n",
       "      <td>3.0</td>\n",
       "      <td>0.0</td>\n",
       "      <td>0.0</td>\n",
       "      <td>0.0</td>\n",
       "      <td>...</td>\n",
       "      <td>0.0</td>\n",
       "      <td>0.0</td>\n",
       "      <td>0.0</td>\n",
       "      <td>0.0</td>\n",
       "      <td>0.0</td>\n",
       "      <td>0.0</td>\n",
       "      <td>0.0</td>\n",
       "      <td>0.0</td>\n",
       "      <td>0.0</td>\n",
       "      <td>NaN</td>\n",
       "    </tr>\n",
       "  </tbody>\n",
       "</table>\n",
       "<p>5 rows × 24 columns</p>\n",
       "</div>"
      ],
      "text/plain": [
       "    playerID  yearID  stint teamID lgID   G  G_batting   AB    R    H  ...    \\\n",
       "0  aardsda01    2004      1    SFN   NL  11       11.0  0.0  0.0  0.0  ...     \n",
       "1  aardsda01    2006      1    CHN   NL  45       43.0  2.0  0.0  0.0  ...     \n",
       "2  aardsda01    2007      1    CHA   AL  25        2.0  0.0  0.0  0.0  ...     \n",
       "3  aardsda01    2008      1    BOS   AL  47        5.0  1.0  0.0  0.0  ...     \n",
       "4  aardsda01    2009      1    SEA   AL  73        3.0  0.0  0.0  0.0  ...     \n",
       "\n",
       "    SB   CS   BB   SO  IBB  HBP   SH   SF  GIDP  G_old  \n",
       "0  0.0  0.0  0.0  0.0  0.0  0.0  0.0  0.0   0.0   11.0  \n",
       "1  0.0  0.0  0.0  0.0  0.0  0.0  1.0  0.0   0.0   45.0  \n",
       "2  0.0  0.0  0.0  0.0  0.0  0.0  0.0  0.0   0.0    2.0  \n",
       "3  0.0  0.0  0.0  1.0  0.0  0.0  0.0  0.0   0.0    5.0  \n",
       "4  0.0  0.0  0.0  0.0  0.0  0.0  0.0  0.0   0.0    NaN  \n",
       "\n",
       "[5 rows x 24 columns]"
      ]
     },
     "execution_count": 131,
     "metadata": {},
     "output_type": "execute_result"
    }
   ],
   "source": [
    "batting_df = pd.read_csv('Batting.csv')\n",
    "\n",
    "batting_df.head()"
   ]
  },
  {
   "cell_type": "code",
   "execution_count": 132,
   "metadata": {
    "collapsed": false
   },
   "outputs": [
    {
     "name": "stdout",
     "output_type": "stream",
     "text": [
      "<class 'pandas.core.frame.DataFrame'>\n",
      "RangeIndex: 97889 entries, 0 to 97888\n",
      "Data columns (total 24 columns):\n",
      "playerID     97889 non-null object\n",
      "yearID       97889 non-null int64\n",
      "stint        97889 non-null int64\n",
      "teamID       97889 non-null object\n",
      "lgID         97152 non-null object\n",
      "G            97889 non-null int64\n",
      "G_batting    96483 non-null float64\n",
      "AB           91476 non-null float64\n",
      "R            91476 non-null float64\n",
      "H            91476 non-null float64\n",
      "2B           91476 non-null float64\n",
      "3B           91476 non-null float64\n",
      "HR           91476 non-null float64\n",
      "RBI          91052 non-null float64\n",
      "SB           90176 non-null float64\n",
      "CS           68022 non-null float64\n",
      "BB           91476 non-null float64\n",
      "SO           83638 non-null float64\n",
      "IBB          54912 non-null float64\n",
      "HBP          88656 non-null float64\n",
      "SH           85138 non-null float64\n",
      "SF           55443 non-null float64\n",
      "GIDP         65368 non-null float64\n",
      "G_old        92700 non-null float64\n",
      "dtypes: float64(18), int64(3), object(3)\n",
      "memory usage: 17.9+ MB\n"
     ]
    }
   ],
   "source": [
    "batting_df.info()"
   ]
  },
  {
   "cell_type": "markdown",
   "metadata": {},
   "source": [
    "### Feature Engineering"
   ]
  },
  {
   "cell_type": "markdown",
   "metadata": {},
   "source": [
    "We'll be adding three more statistics to the dataframe:\n",
    "* Batting Average\n",
    "* On Base Percentage\n",
    "* Slugging Percentage\n"
   ]
  },
  {
   "cell_type": "markdown",
   "metadata": {},
   "source": [
    "##### Batting Average"
   ]
  },
  {
   "cell_type": "markdown",
   "metadata": {},
   "source": [
    "Batting Average is defined as:\n",
    "\\begin{equation*}\n",
    "AVG = \\frac{H}{AB}\n",
    "\\end{equation*}\n",
    "\n",
    "Where \\begin{equation*} {H} \\end{equation*} is the number of hits and \\begin{equation*} {AB} \\end{equation*} is the number of 'At Bats'."
   ]
  },
  {
   "cell_type": "markdown",
   "metadata": {},
   "source": [
    "##### Here we create a new column on our batting_df dataframe called 'BA'"
   ]
  },
  {
   "cell_type": "code",
   "execution_count": 133,
   "metadata": {
    "collapsed": true
   },
   "outputs": [],
   "source": [
    "def get_bavg(x):\n",
    "    H = x['H']\n",
    "    AB = x['AB']\n",
    "    if AB == 0 or H == 0:\n",
    "        return 0\n",
    "    else:\n",
    "        return H/AB"
   ]
  },
  {
   "cell_type": "code",
   "execution_count": 134,
   "metadata": {
    "collapsed": true
   },
   "outputs": [],
   "source": [
    "batting_df['BA'] = batting_df.apply(get_bavg, axis=1)"
   ]
  },
  {
   "cell_type": "markdown",
   "metadata": {},
   "source": [
    "##### On Base Percentage"
   ]
  },
  {
   "cell_type": "markdown",
   "metadata": {},
   "source": [
    "On Base Percentage is defined as:\n",
    "\\begin{equation*}\n",
    "OBP = \\frac{H+BB+HBP}{AB+BB+HBP+SF}\n",
    "\\end{equation*}"
   ]
  },
  {
   "cell_type": "code",
   "execution_count": 135,
   "metadata": {
    "collapsed": false
   },
   "outputs": [],
   "source": [
    "# define a function to calculate the OBP that takes in a dataframe as a parameter\n",
    "def get_obp(x):\n",
    "    H = x['H']\n",
    "    BB = x['BB']\n",
    "    HBP = x['HBP']\n",
    "    SF = x['SF']\n",
    "    AB = x['AB']\n",
    "    Denominator = (AB+BB+HBP+SF)\n",
    "#    if Denominator == 0:\n",
    "#        Denominator = 0.001 #prevent python from approximating to zero and getting div by zero errors\n",
    "    if AB == 0:\n",
    "        return 0\n",
    "    else:\n",
    "        return (H+BB+HBP)/Denominator"
   ]
  },
  {
   "cell_type": "code",
   "execution_count": 136,
   "metadata": {
    "collapsed": false
   },
   "outputs": [],
   "source": [
    "batting_df['OBP'] = batting_df.apply(get_obp, axis=1)"
   ]
  },
  {
   "cell_type": "code",
   "execution_count": 137,
   "metadata": {
    "collapsed": false,
    "scrolled": true
   },
   "outputs": [
    {
     "data": {
      "text/plain": [
       "0        0.000000\n",
       "1        0.000000\n",
       "2        0.000000\n",
       "3        0.000000\n",
       "4        0.000000\n",
       "5        0.000000\n",
       "6             NaN\n",
       "7        0.322068\n",
       "8        0.366261\n",
       "9        0.364885\n",
       "10       0.377778\n",
       "11       0.385542\n",
       "12       0.401154\n",
       "13       0.352410\n",
       "14       0.380597\n",
       "15       0.389805\n",
       "16       0.390756\n",
       "17       0.392744\n",
       "18       0.378717\n",
       "19       0.356105\n",
       "20       0.369208\n",
       "21       0.353550\n",
       "22       0.395931\n",
       "23       0.384615\n",
       "24       0.410122\n",
       "25       0.389706\n",
       "26       0.402151\n",
       "27       0.341207\n",
       "28       0.332103\n",
       "29       0.314935\n",
       "           ...   \n",
       "97859    0.000000\n",
       "97860    0.257576\n",
       "97861    0.000000\n",
       "97862    0.000000\n",
       "97863    0.193548\n",
       "97864    0.000000\n",
       "97865    0.257576\n",
       "97866    0.000000\n",
       "97867    0.000000\n",
       "97868    0.000000\n",
       "97869    0.000000\n",
       "97870    0.390244\n",
       "97871    0.000000\n",
       "97872    0.000000\n",
       "97873    0.369963\n",
       "97874    0.305085\n",
       "97875    0.280000\n",
       "97876    0.302405\n",
       "97877    0.328571\n",
       "97878    0.289773\n",
       "97879    0.317961\n",
       "97880    0.335938\n",
       "97881    0.320755\n",
       "97882    0.000000\n",
       "97883    0.000000\n",
       "97884    0.134328\n",
       "97885    0.344392\n",
       "97886    0.147059\n",
       "97887    0.354376\n",
       "97888    0.290155\n",
       "Name: OBP, dtype: float64"
      ]
     },
     "execution_count": 137,
     "metadata": {},
     "output_type": "execute_result"
    }
   ],
   "source": [
    "batting_df['OBP']"
   ]
  },
  {
   "cell_type": "markdown",
   "metadata": {},
   "source": [
    "##### Singles"
   ]
  },
  {
   "cell_type": "markdown",
   "metadata": {},
   "source": [
    "To calculate Slugging Percentage, we'll need to calculate singles. To do that, we can get the total hits and subtract Home Runs, Doubles, and Triples"
   ]
  },
  {
   "cell_type": "code",
   "execution_count": 138,
   "metadata": {
    "collapsed": false
   },
   "outputs": [],
   "source": [
    "def get_singles(x):\n",
    "    H = x['H']\n",
    "    doubles = x['2B']\n",
    "    triples = x['3B']\n",
    "    HR = x['HR']\n",
    "    singles = H-(doubles-triples-HR)\n",
    "    if singles <=0:\n",
    "        return 0\n",
    "    else:\n",
    "        return singles"
   ]
  },
  {
   "cell_type": "code",
   "execution_count": 139,
   "metadata": {
    "collapsed": false
   },
   "outputs": [],
   "source": [
    "batting_df['1B'] = batting_df.apply(get_singles, axis=1)"
   ]
  },
  {
   "cell_type": "markdown",
   "metadata": {},
   "source": [
    "##### Slugging Percentage"
   ]
  },
  {
   "cell_type": "markdown",
   "metadata": {},
   "source": [
    "Slugging Percentage is defined as\n",
    "\\begin{equation*}\n",
    "SLG = \\frac{(1B)+(2\\times2B)+(3\\times3B)+(4\\times(HR))}{AB}\n",
    "\\end{equation*}"
   ]
  },
  {
   "cell_type": "code",
   "execution_count": 140,
   "metadata": {
    "collapsed": true
   },
   "outputs": [],
   "source": [
    "def get_slg(x):\n",
    "    H = x['H']\n",
    "    doubles = x['2B']\n",
    "    triples = x['3B']\n",
    "    HR = x['HR']\n",
    "    singles = x['1B']\n",
    "    AB = x['AB']\n",
    "    if AB == 0:\n",
    "        return 0\n",
    "    else:\n",
    "        return (singles + 2*doubles + 3*triples + 4*HR)/(AB)"
   ]
  },
  {
   "cell_type": "code",
   "execution_count": 141,
   "metadata": {
    "collapsed": false
   },
   "outputs": [],
   "source": [
    "batting_df['SLG'] = batting_df.apply(get_slg,axis=1)"
   ]
  },
  {
   "cell_type": "code",
   "execution_count": 142,
   "metadata": {
    "collapsed": false
   },
   "outputs": [
    {
     "data": {
      "text/html": [
       "<div>\n",
       "<table border=\"1\" class=\"dataframe\">\n",
       "  <thead>\n",
       "    <tr style=\"text-align: right;\">\n",
       "      <th></th>\n",
       "      <th>playerID</th>\n",
       "      <th>yearID</th>\n",
       "      <th>stint</th>\n",
       "      <th>teamID</th>\n",
       "      <th>lgID</th>\n",
       "      <th>G</th>\n",
       "      <th>G_batting</th>\n",
       "      <th>AB</th>\n",
       "      <th>R</th>\n",
       "      <th>H</th>\n",
       "      <th>...</th>\n",
       "      <th>IBB</th>\n",
       "      <th>HBP</th>\n",
       "      <th>SH</th>\n",
       "      <th>SF</th>\n",
       "      <th>GIDP</th>\n",
       "      <th>G_old</th>\n",
       "      <th>BA</th>\n",
       "      <th>OBP</th>\n",
       "      <th>1B</th>\n",
       "      <th>SLG</th>\n",
       "    </tr>\n",
       "  </thead>\n",
       "  <tbody>\n",
       "    <tr>\n",
       "      <th>0</th>\n",
       "      <td>aardsda01</td>\n",
       "      <td>2004</td>\n",
       "      <td>1</td>\n",
       "      <td>SFN</td>\n",
       "      <td>NL</td>\n",
       "      <td>11</td>\n",
       "      <td>11.0</td>\n",
       "      <td>0.0</td>\n",
       "      <td>0.0</td>\n",
       "      <td>0.0</td>\n",
       "      <td>...</td>\n",
       "      <td>0.0</td>\n",
       "      <td>0.0</td>\n",
       "      <td>0.0</td>\n",
       "      <td>0.0</td>\n",
       "      <td>0.0</td>\n",
       "      <td>11.0</td>\n",
       "      <td>0.0</td>\n",
       "      <td>0.0</td>\n",
       "      <td>0.0</td>\n",
       "      <td>0.0</td>\n",
       "    </tr>\n",
       "    <tr>\n",
       "      <th>1</th>\n",
       "      <td>aardsda01</td>\n",
       "      <td>2006</td>\n",
       "      <td>1</td>\n",
       "      <td>CHN</td>\n",
       "      <td>NL</td>\n",
       "      <td>45</td>\n",
       "      <td>43.0</td>\n",
       "      <td>2.0</td>\n",
       "      <td>0.0</td>\n",
       "      <td>0.0</td>\n",
       "      <td>...</td>\n",
       "      <td>0.0</td>\n",
       "      <td>0.0</td>\n",
       "      <td>1.0</td>\n",
       "      <td>0.0</td>\n",
       "      <td>0.0</td>\n",
       "      <td>45.0</td>\n",
       "      <td>0.0</td>\n",
       "      <td>0.0</td>\n",
       "      <td>0.0</td>\n",
       "      <td>0.0</td>\n",
       "    </tr>\n",
       "    <tr>\n",
       "      <th>2</th>\n",
       "      <td>aardsda01</td>\n",
       "      <td>2007</td>\n",
       "      <td>1</td>\n",
       "      <td>CHA</td>\n",
       "      <td>AL</td>\n",
       "      <td>25</td>\n",
       "      <td>2.0</td>\n",
       "      <td>0.0</td>\n",
       "      <td>0.0</td>\n",
       "      <td>0.0</td>\n",
       "      <td>...</td>\n",
       "      <td>0.0</td>\n",
       "      <td>0.0</td>\n",
       "      <td>0.0</td>\n",
       "      <td>0.0</td>\n",
       "      <td>0.0</td>\n",
       "      <td>2.0</td>\n",
       "      <td>0.0</td>\n",
       "      <td>0.0</td>\n",
       "      <td>0.0</td>\n",
       "      <td>0.0</td>\n",
       "    </tr>\n",
       "    <tr>\n",
       "      <th>3</th>\n",
       "      <td>aardsda01</td>\n",
       "      <td>2008</td>\n",
       "      <td>1</td>\n",
       "      <td>BOS</td>\n",
       "      <td>AL</td>\n",
       "      <td>47</td>\n",
       "      <td>5.0</td>\n",
       "      <td>1.0</td>\n",
       "      <td>0.0</td>\n",
       "      <td>0.0</td>\n",
       "      <td>...</td>\n",
       "      <td>0.0</td>\n",
       "      <td>0.0</td>\n",
       "      <td>0.0</td>\n",
       "      <td>0.0</td>\n",
       "      <td>0.0</td>\n",
       "      <td>5.0</td>\n",
       "      <td>0.0</td>\n",
       "      <td>0.0</td>\n",
       "      <td>0.0</td>\n",
       "      <td>0.0</td>\n",
       "    </tr>\n",
       "    <tr>\n",
       "      <th>4</th>\n",
       "      <td>aardsda01</td>\n",
       "      <td>2009</td>\n",
       "      <td>1</td>\n",
       "      <td>SEA</td>\n",
       "      <td>AL</td>\n",
       "      <td>73</td>\n",
       "      <td>3.0</td>\n",
       "      <td>0.0</td>\n",
       "      <td>0.0</td>\n",
       "      <td>0.0</td>\n",
       "      <td>...</td>\n",
       "      <td>0.0</td>\n",
       "      <td>0.0</td>\n",
       "      <td>0.0</td>\n",
       "      <td>0.0</td>\n",
       "      <td>0.0</td>\n",
       "      <td>NaN</td>\n",
       "      <td>0.0</td>\n",
       "      <td>0.0</td>\n",
       "      <td>0.0</td>\n",
       "      <td>0.0</td>\n",
       "    </tr>\n",
       "    <tr>\n",
       "      <th>5</th>\n",
       "      <td>aardsda01</td>\n",
       "      <td>2010</td>\n",
       "      <td>1</td>\n",
       "      <td>SEA</td>\n",
       "      <td>AL</td>\n",
       "      <td>53</td>\n",
       "      <td>4.0</td>\n",
       "      <td>0.0</td>\n",
       "      <td>0.0</td>\n",
       "      <td>0.0</td>\n",
       "      <td>...</td>\n",
       "      <td>0.0</td>\n",
       "      <td>0.0</td>\n",
       "      <td>0.0</td>\n",
       "      <td>0.0</td>\n",
       "      <td>0.0</td>\n",
       "      <td>NaN</td>\n",
       "      <td>0.0</td>\n",
       "      <td>0.0</td>\n",
       "      <td>0.0</td>\n",
       "      <td>0.0</td>\n",
       "    </tr>\n",
       "    <tr>\n",
       "      <th>6</th>\n",
       "      <td>aardsda01</td>\n",
       "      <td>2012</td>\n",
       "      <td>1</td>\n",
       "      <td>NYA</td>\n",
       "      <td>AL</td>\n",
       "      <td>1</td>\n",
       "      <td>NaN</td>\n",
       "      <td>NaN</td>\n",
       "      <td>NaN</td>\n",
       "      <td>NaN</td>\n",
       "      <td>...</td>\n",
       "      <td>NaN</td>\n",
       "      <td>NaN</td>\n",
       "      <td>NaN</td>\n",
       "      <td>NaN</td>\n",
       "      <td>NaN</td>\n",
       "      <td>NaN</td>\n",
       "      <td>NaN</td>\n",
       "      <td>NaN</td>\n",
       "      <td>NaN</td>\n",
       "      <td>NaN</td>\n",
       "    </tr>\n",
       "  </tbody>\n",
       "</table>\n",
       "<p>7 rows × 28 columns</p>\n",
       "</div>"
      ],
      "text/plain": [
       "    playerID  yearID  stint teamID lgID   G  G_batting   AB    R    H ...   \\\n",
       "0  aardsda01    2004      1    SFN   NL  11       11.0  0.0  0.0  0.0 ...    \n",
       "1  aardsda01    2006      1    CHN   NL  45       43.0  2.0  0.0  0.0 ...    \n",
       "2  aardsda01    2007      1    CHA   AL  25        2.0  0.0  0.0  0.0 ...    \n",
       "3  aardsda01    2008      1    BOS   AL  47        5.0  1.0  0.0  0.0 ...    \n",
       "4  aardsda01    2009      1    SEA   AL  73        3.0  0.0  0.0  0.0 ...    \n",
       "5  aardsda01    2010      1    SEA   AL  53        4.0  0.0  0.0  0.0 ...    \n",
       "6  aardsda01    2012      1    NYA   AL   1        NaN  NaN  NaN  NaN ...    \n",
       "\n",
       "   IBB  HBP   SH   SF  GIDP  G_old   BA  OBP   1B  SLG  \n",
       "0  0.0  0.0  0.0  0.0   0.0   11.0  0.0  0.0  0.0  0.0  \n",
       "1  0.0  0.0  1.0  0.0   0.0   45.0  0.0  0.0  0.0  0.0  \n",
       "2  0.0  0.0  0.0  0.0   0.0    2.0  0.0  0.0  0.0  0.0  \n",
       "3  0.0  0.0  0.0  0.0   0.0    5.0  0.0  0.0  0.0  0.0  \n",
       "4  0.0  0.0  0.0  0.0   0.0    NaN  0.0  0.0  0.0  0.0  \n",
       "5  0.0  0.0  0.0  0.0   0.0    NaN  0.0  0.0  0.0  0.0  \n",
       "6  NaN  NaN  NaN  NaN   NaN    NaN  NaN  NaN  NaN  NaN  \n",
       "\n",
       "[7 rows x 28 columns]"
      ]
     },
     "execution_count": 142,
     "metadata": {},
     "output_type": "execute_result"
    }
   ],
   "source": [
    "batting_df.head(7)"
   ]
  },
  {
   "cell_type": "markdown",
   "metadata": {},
   "source": [
    "### Adding in Salary Data"
   ]
  },
  {
   "cell_type": "markdown",
   "metadata": {},
   "source": [
    "We now have to add salary data to our data frame. This will give us a good idea at who is undervalued i.e cheap prospects"
   ]
  },
  {
   "cell_type": "code",
   "execution_count": 143,
   "metadata": {
    "collapsed": true
   },
   "outputs": [],
   "source": [
    "# Read in Salary data"
   ]
  },
  {
   "cell_type": "code",
   "execution_count": 144,
   "metadata": {
    "collapsed": true
   },
   "outputs": [],
   "source": [
    "salary_df = pd.read_csv('Salaries.csv')"
   ]
  },
  {
   "cell_type": "code",
   "execution_count": 145,
   "metadata": {
    "collapsed": false
   },
   "outputs": [
    {
     "name": "stdout",
     "output_type": "stream",
     "text": [
      "<class 'pandas.core.frame.DataFrame'>\n",
      "RangeIndex: 23956 entries, 0 to 23955\n",
      "Data columns (total 5 columns):\n",
      "yearID      23956 non-null int64\n",
      "teamID      23956 non-null object\n",
      "lgID        23956 non-null object\n",
      "playerID    23956 non-null object\n",
      "salary      23956 non-null int64\n",
      "dtypes: int64(2), object(3)\n",
      "memory usage: 935.9+ KB\n"
     ]
    }
   ],
   "source": [
    "salary_df.info()"
   ]
  },
  {
   "cell_type": "markdown",
   "metadata": {},
   "source": [
    "##### Since we only have salary data for 1985 and beyond, we need to limit our batting data to 1985 and beyond"
   ]
  },
  {
   "cell_type": "code",
   "execution_count": 147,
   "metadata": {
    "collapsed": false
   },
   "outputs": [],
   "source": [
    "battingtwo_df = batting_df.loc[batting_df['yearID'] >= 1985]"
   ]
  },
  {
   "cell_type": "code",
   "execution_count": null,
   "metadata": {
    "collapsed": true
   },
   "outputs": [],
   "source": []
  }
 ],
 "metadata": {
  "kernelspec": {
   "display_name": "Python 2",
   "language": "python",
   "name": "python2"
  },
  "language_info": {
   "codemirror_mode": {
    "name": "ipython",
    "version": 2
   },
   "file_extension": ".py",
   "mimetype": "text/x-python",
   "name": "python",
   "nbconvert_exporter": "python",
   "pygments_lexer": "ipython2",
   "version": "2.7.11"
  }
 },
 "nbformat": 4,
 "nbformat_minor": 0
}
