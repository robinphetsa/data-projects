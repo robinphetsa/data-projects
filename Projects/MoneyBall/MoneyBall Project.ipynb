{
 "cells": [
  {
   "cell_type": "markdown",
   "metadata": {},
   "source": [
    "# Moneyball\n",
    "### Using Statistics to help the Oakland A's become competitive "
   ]
  },
  {
   "cell_type": "markdown",
   "metadata": {},
   "source": [
    "In 2002, the Oakland Athletic's made prominent use of statistical analysis to obtain undervalued players and front a competitive team with the third lowest salary in the Majors. They reevaluated key player performance metrics, discovering that older statistics such as RBI's and Batting Average where no good indicators of player performance. Instead they focused on metrics like 'On Base Percentage' and 'Slugging Percentage' as indicators of good offense. In this notebook, we will pretend to go back in time and help the Oakland A's find such talent that has been overlooked and undervalued by the rest of the league."
   ]
  },
  {
   "cell_type": "code",
   "execution_count": 2,
   "metadata": {
    "collapsed": true
   },
   "outputs": [],
   "source": [
    "#imports\n",
    "%matplotlib inline\n",
    "import pandas as pd\n",
    "import numpy as np\n",
    "from matplotlib import pyplot as plt"
   ]
  },
  {
   "cell_type": "markdown",
   "metadata": {},
   "source": [
    " ## Reading in the data"
   ]
  },
  {
   "cell_type": "code",
   "execution_count": 3,
   "metadata": {
    "collapsed": false
   },
   "outputs": [
    {
     "data": {
      "text/html": [
       "<div>\n",
       "<table border=\"1\" class=\"dataframe\">\n",
       "  <thead>\n",
       "    <tr style=\"text-align: right;\">\n",
       "      <th></th>\n",
       "      <th>playerID</th>\n",
       "      <th>yearID</th>\n",
       "      <th>stint</th>\n",
       "      <th>teamID</th>\n",
       "      <th>lgID</th>\n",
       "      <th>G</th>\n",
       "      <th>G_batting</th>\n",
       "      <th>AB</th>\n",
       "      <th>R</th>\n",
       "      <th>H</th>\n",
       "      <th>...</th>\n",
       "      <th>SB</th>\n",
       "      <th>CS</th>\n",
       "      <th>BB</th>\n",
       "      <th>SO</th>\n",
       "      <th>IBB</th>\n",
       "      <th>HBP</th>\n",
       "      <th>SH</th>\n",
       "      <th>SF</th>\n",
       "      <th>GIDP</th>\n",
       "      <th>G_old</th>\n",
       "    </tr>\n",
       "  </thead>\n",
       "  <tbody>\n",
       "    <tr>\n",
       "      <th>0</th>\n",
       "      <td>aardsda01</td>\n",
       "      <td>2004</td>\n",
       "      <td>1</td>\n",
       "      <td>SFN</td>\n",
       "      <td>NL</td>\n",
       "      <td>11</td>\n",
       "      <td>11.0</td>\n",
       "      <td>0.0</td>\n",
       "      <td>0.0</td>\n",
       "      <td>0.0</td>\n",
       "      <td>...</td>\n",
       "      <td>0.0</td>\n",
       "      <td>0.0</td>\n",
       "      <td>0.0</td>\n",
       "      <td>0.0</td>\n",
       "      <td>0.0</td>\n",
       "      <td>0.0</td>\n",
       "      <td>0.0</td>\n",
       "      <td>0.0</td>\n",
       "      <td>0.0</td>\n",
       "      <td>11.0</td>\n",
       "    </tr>\n",
       "    <tr>\n",
       "      <th>1</th>\n",
       "      <td>aardsda01</td>\n",
       "      <td>2006</td>\n",
       "      <td>1</td>\n",
       "      <td>CHN</td>\n",
       "      <td>NL</td>\n",
       "      <td>45</td>\n",
       "      <td>43.0</td>\n",
       "      <td>2.0</td>\n",
       "      <td>0.0</td>\n",
       "      <td>0.0</td>\n",
       "      <td>...</td>\n",
       "      <td>0.0</td>\n",
       "      <td>0.0</td>\n",
       "      <td>0.0</td>\n",
       "      <td>0.0</td>\n",
       "      <td>0.0</td>\n",
       "      <td>0.0</td>\n",
       "      <td>1.0</td>\n",
       "      <td>0.0</td>\n",
       "      <td>0.0</td>\n",
       "      <td>45.0</td>\n",
       "    </tr>\n",
       "    <tr>\n",
       "      <th>2</th>\n",
       "      <td>aardsda01</td>\n",
       "      <td>2007</td>\n",
       "      <td>1</td>\n",
       "      <td>CHA</td>\n",
       "      <td>AL</td>\n",
       "      <td>25</td>\n",
       "      <td>2.0</td>\n",
       "      <td>0.0</td>\n",
       "      <td>0.0</td>\n",
       "      <td>0.0</td>\n",
       "      <td>...</td>\n",
       "      <td>0.0</td>\n",
       "      <td>0.0</td>\n",
       "      <td>0.0</td>\n",
       "      <td>0.0</td>\n",
       "      <td>0.0</td>\n",
       "      <td>0.0</td>\n",
       "      <td>0.0</td>\n",
       "      <td>0.0</td>\n",
       "      <td>0.0</td>\n",
       "      <td>2.0</td>\n",
       "    </tr>\n",
       "    <tr>\n",
       "      <th>3</th>\n",
       "      <td>aardsda01</td>\n",
       "      <td>2008</td>\n",
       "      <td>1</td>\n",
       "      <td>BOS</td>\n",
       "      <td>AL</td>\n",
       "      <td>47</td>\n",
       "      <td>5.0</td>\n",
       "      <td>1.0</td>\n",
       "      <td>0.0</td>\n",
       "      <td>0.0</td>\n",
       "      <td>...</td>\n",
       "      <td>0.0</td>\n",
       "      <td>0.0</td>\n",
       "      <td>0.0</td>\n",
       "      <td>1.0</td>\n",
       "      <td>0.0</td>\n",
       "      <td>0.0</td>\n",
       "      <td>0.0</td>\n",
       "      <td>0.0</td>\n",
       "      <td>0.0</td>\n",
       "      <td>5.0</td>\n",
       "    </tr>\n",
       "    <tr>\n",
       "      <th>4</th>\n",
       "      <td>aardsda01</td>\n",
       "      <td>2009</td>\n",
       "      <td>1</td>\n",
       "      <td>SEA</td>\n",
       "      <td>AL</td>\n",
       "      <td>73</td>\n",
       "      <td>3.0</td>\n",
       "      <td>0.0</td>\n",
       "      <td>0.0</td>\n",
       "      <td>0.0</td>\n",
       "      <td>...</td>\n",
       "      <td>0.0</td>\n",
       "      <td>0.0</td>\n",
       "      <td>0.0</td>\n",
       "      <td>0.0</td>\n",
       "      <td>0.0</td>\n",
       "      <td>0.0</td>\n",
       "      <td>0.0</td>\n",
       "      <td>0.0</td>\n",
       "      <td>0.0</td>\n",
       "      <td>NaN</td>\n",
       "    </tr>\n",
       "  </tbody>\n",
       "</table>\n",
       "<p>5 rows × 24 columns</p>\n",
       "</div>"
      ],
      "text/plain": [
       "    playerID  yearID  stint teamID lgID   G  G_batting   AB    R    H  ...    \\\n",
       "0  aardsda01    2004      1    SFN   NL  11       11.0  0.0  0.0  0.0  ...     \n",
       "1  aardsda01    2006      1    CHN   NL  45       43.0  2.0  0.0  0.0  ...     \n",
       "2  aardsda01    2007      1    CHA   AL  25        2.0  0.0  0.0  0.0  ...     \n",
       "3  aardsda01    2008      1    BOS   AL  47        5.0  1.0  0.0  0.0  ...     \n",
       "4  aardsda01    2009      1    SEA   AL  73        3.0  0.0  0.0  0.0  ...     \n",
       "\n",
       "    SB   CS   BB   SO  IBB  HBP   SH   SF  GIDP  G_old  \n",
       "0  0.0  0.0  0.0  0.0  0.0  0.0  0.0  0.0   0.0   11.0  \n",
       "1  0.0  0.0  0.0  0.0  0.0  0.0  1.0  0.0   0.0   45.0  \n",
       "2  0.0  0.0  0.0  0.0  0.0  0.0  0.0  0.0   0.0    2.0  \n",
       "3  0.0  0.0  0.0  1.0  0.0  0.0  0.0  0.0   0.0    5.0  \n",
       "4  0.0  0.0  0.0  0.0  0.0  0.0  0.0  0.0   0.0    NaN  \n",
       "\n",
       "[5 rows x 24 columns]"
      ]
     },
     "execution_count": 3,
     "metadata": {},
     "output_type": "execute_result"
    }
   ],
   "source": [
    "batting_df = pd.read_csv('Batting.csv')\n",
    "\n",
    "batting_df.head()"
   ]
  },
  {
   "cell_type": "code",
   "execution_count": 132,
   "metadata": {
    "collapsed": false
   },
   "outputs": [
    {
     "name": "stdout",
     "output_type": "stream",
     "text": [
      "<class 'pandas.core.frame.DataFrame'>\n",
      "RangeIndex: 97889 entries, 0 to 97888\n",
      "Data columns (total 24 columns):\n",
      "playerID     97889 non-null object\n",
      "yearID       97889 non-null int64\n",
      "stint        97889 non-null int64\n",
      "teamID       97889 non-null object\n",
      "lgID         97152 non-null object\n",
      "G            97889 non-null int64\n",
      "G_batting    96483 non-null float64\n",
      "AB           91476 non-null float64\n",
      "R            91476 non-null float64\n",
      "H            91476 non-null float64\n",
      "2B           91476 non-null float64\n",
      "3B           91476 non-null float64\n",
      "HR           91476 non-null float64\n",
      "RBI          91052 non-null float64\n",
      "SB           90176 non-null float64\n",
      "CS           68022 non-null float64\n",
      "BB           91476 non-null float64\n",
      "SO           83638 non-null float64\n",
      "IBB          54912 non-null float64\n",
      "HBP          88656 non-null float64\n",
      "SH           85138 non-null float64\n",
      "SF           55443 non-null float64\n",
      "GIDP         65368 non-null float64\n",
      "G_old        92700 non-null float64\n",
      "dtypes: float64(18), int64(3), object(3)\n",
      "memory usage: 17.9+ MB\n"
     ]
    }
   ],
   "source": [
    "batting_df.info()"
   ]
  },
  {
   "cell_type": "markdown",
   "metadata": {},
   "source": [
    "### Feature Engineering"
   ]
  },
  {
   "cell_type": "markdown",
   "metadata": {},
   "source": [
    "We'll be adding three more statistics to the dataframe:\n",
    "* Batting Average\n",
    "* On Base Percentage\n",
    "* Slugging Percentage\n"
   ]
  },
  {
   "cell_type": "markdown",
   "metadata": {},
   "source": [
    "##### Batting Average"
   ]
  },
  {
   "cell_type": "markdown",
   "metadata": {},
   "source": [
    "Batting Average is defined as:\n",
    "\\begin{equation*}\n",
    "AVG = \\frac{H}{AB}\n",
    "\\end{equation*}\n",
    "\n",
    "Where \\begin{equation*} {H} \\end{equation*} is the number of hits and \\begin{equation*} {AB} \\end{equation*} is the number of 'At Bats'."
   ]
  },
  {
   "cell_type": "markdown",
   "metadata": {},
   "source": [
    "##### Here we create a new column on our batting_df dataframe called 'BA'"
   ]
  },
  {
   "cell_type": "code",
   "execution_count": 4,
   "metadata": {
    "collapsed": true
   },
   "outputs": [],
   "source": [
    "def get_bavg(x):\n",
    "    H = x['H']\n",
    "    AB = x['AB']\n",
    "    if AB == 0 or H == 0:\n",
    "        return 0\n",
    "    else:\n",
    "        return H/AB"
   ]
  },
  {
   "cell_type": "code",
   "execution_count": 5,
   "metadata": {
    "collapsed": true
   },
   "outputs": [],
   "source": [
    "batting_df['BA'] = batting_df.apply(get_bavg, axis=1)"
   ]
  },
  {
   "cell_type": "markdown",
   "metadata": {},
   "source": [
    "##### On Base Percentage"
   ]
  },
  {
   "cell_type": "markdown",
   "metadata": {},
   "source": [
    "On Base Percentage is defined as:\n",
    "\\begin{equation*}\n",
    "OBP = \\frac{H+BB+HBP}{AB+BB+HBP+SF}\n",
    "\\end{equation*}"
   ]
  },
  {
   "cell_type": "code",
   "execution_count": 6,
   "metadata": {
    "collapsed": false
   },
   "outputs": [],
   "source": [
    "# define a function to calculate the OBP that takes in a dataframe as a parameter\n",
    "def get_obp(x):\n",
    "    H = x['H']\n",
    "    BB = x['BB']\n",
    "    HBP = x['HBP']\n",
    "    SF = x['SF']\n",
    "    AB = x['AB']\n",
    "    Denominator = (AB+BB+HBP+SF)\n",
    "#    if Denominator == 0:\n",
    "#        Denominator = 0.001 #prevent python from approximating to zero and getting div by zero errors\n",
    "    if AB == 0:\n",
    "        return 0\n",
    "    else:\n",
    "        return (H+BB+HBP)/Denominator"
   ]
  },
  {
   "cell_type": "code",
   "execution_count": 7,
   "metadata": {
    "collapsed": false
   },
   "outputs": [],
   "source": [
    "batting_df['OBP'] = batting_df.apply(get_obp, axis=1)"
   ]
  },
  {
   "cell_type": "code",
   "execution_count": 8,
   "metadata": {
    "collapsed": false,
    "scrolled": true
   },
   "outputs": [
    {
     "data": {
      "text/plain": [
       "0        0.000000\n",
       "1        0.000000\n",
       "2        0.000000\n",
       "3        0.000000\n",
       "4        0.000000\n",
       "5        0.000000\n",
       "6             NaN\n",
       "7        0.322068\n",
       "8        0.366261\n",
       "9        0.364885\n",
       "10       0.377778\n",
       "11       0.385542\n",
       "12       0.401154\n",
       "13       0.352410\n",
       "14       0.380597\n",
       "15       0.389805\n",
       "16       0.390756\n",
       "17       0.392744\n",
       "18       0.378717\n",
       "19       0.356105\n",
       "20       0.369208\n",
       "21       0.353550\n",
       "22       0.395931\n",
       "23       0.384615\n",
       "24       0.410122\n",
       "25       0.389706\n",
       "26       0.402151\n",
       "27       0.341207\n",
       "28       0.332103\n",
       "29       0.314935\n",
       "           ...   \n",
       "97859    0.000000\n",
       "97860    0.257576\n",
       "97861    0.000000\n",
       "97862    0.000000\n",
       "97863    0.193548\n",
       "97864    0.000000\n",
       "97865    0.257576\n",
       "97866    0.000000\n",
       "97867    0.000000\n",
       "97868    0.000000\n",
       "97869    0.000000\n",
       "97870    0.390244\n",
       "97871    0.000000\n",
       "97872    0.000000\n",
       "97873    0.369963\n",
       "97874    0.305085\n",
       "97875    0.280000\n",
       "97876    0.302405\n",
       "97877    0.328571\n",
       "97878    0.289773\n",
       "97879    0.317961\n",
       "97880    0.335938\n",
       "97881    0.320755\n",
       "97882    0.000000\n",
       "97883    0.000000\n",
       "97884    0.134328\n",
       "97885    0.344392\n",
       "97886    0.147059\n",
       "97887    0.354376\n",
       "97888    0.290155\n",
       "Name: OBP, dtype: float64"
      ]
     },
     "execution_count": 8,
     "metadata": {},
     "output_type": "execute_result"
    }
   ],
   "source": [
    "batting_df['OBP']"
   ]
  },
  {
   "cell_type": "markdown",
   "metadata": {},
   "source": [
    "##### Singles"
   ]
  },
  {
   "cell_type": "markdown",
   "metadata": {},
   "source": [
    "To calculate Slugging Percentage, we'll need to calculate singles. To do that, we can get the total hits and subtract Home Runs, Doubles, and Triples"
   ]
  },
  {
   "cell_type": "code",
   "execution_count": 9,
   "metadata": {
    "collapsed": false
   },
   "outputs": [],
   "source": [
    "def get_singles(x):\n",
    "    H = x['H']\n",
    "    doubles = x['2B']\n",
    "    triples = x['3B']\n",
    "    HR = x['HR']\n",
    "    singles = H-(doubles-triples-HR)\n",
    "    if singles <=0:\n",
    "        return 0\n",
    "    else:\n",
    "        return singles"
   ]
  },
  {
   "cell_type": "code",
   "execution_count": 10,
   "metadata": {
    "collapsed": false
   },
   "outputs": [],
   "source": [
    "batting_df['1B'] = batting_df.apply(get_singles, axis=1)"
   ]
  },
  {
   "cell_type": "markdown",
   "metadata": {},
   "source": [
    "##### Slugging Percentage"
   ]
  },
  {
   "cell_type": "markdown",
   "metadata": {},
   "source": [
    "Slugging Percentage is defined as\n",
    "\\begin{equation*}\n",
    "SLG = \\frac{(1B)+(2\\times2B)+(3\\times3B)+(4\\times(HR))}{AB}\n",
    "\\end{equation*}"
   ]
  },
  {
   "cell_type": "code",
   "execution_count": 11,
   "metadata": {
    "collapsed": true
   },
   "outputs": [],
   "source": [
    "def get_slg(x):\n",
    "    H = x['H']\n",
    "    doubles = x['2B']\n",
    "    triples = x['3B']\n",
    "    HR = x['HR']\n",
    "    singles = x['1B']\n",
    "    AB = x['AB']\n",
    "    if AB == 0:\n",
    "        return 0\n",
    "    else:\n",
    "        return (singles + 2*doubles + 3*triples + 4*HR)/(AB)"
   ]
  },
  {
   "cell_type": "code",
   "execution_count": 12,
   "metadata": {
    "collapsed": false
   },
   "outputs": [],
   "source": [
    "batting_df['SLG'] = batting_df.apply(get_slg,axis=1)"
   ]
  },
  {
   "cell_type": "code",
   "execution_count": 13,
   "metadata": {
    "collapsed": false
   },
   "outputs": [
    {
     "data": {
      "text/html": [
       "<div>\n",
       "<table border=\"1\" class=\"dataframe\">\n",
       "  <thead>\n",
       "    <tr style=\"text-align: right;\">\n",
       "      <th></th>\n",
       "      <th>playerID</th>\n",
       "      <th>yearID</th>\n",
       "      <th>stint</th>\n",
       "      <th>teamID</th>\n",
       "      <th>lgID</th>\n",
       "      <th>G</th>\n",
       "      <th>G_batting</th>\n",
       "      <th>AB</th>\n",
       "      <th>R</th>\n",
       "      <th>H</th>\n",
       "      <th>...</th>\n",
       "      <th>IBB</th>\n",
       "      <th>HBP</th>\n",
       "      <th>SH</th>\n",
       "      <th>SF</th>\n",
       "      <th>GIDP</th>\n",
       "      <th>G_old</th>\n",
       "      <th>BA</th>\n",
       "      <th>OBP</th>\n",
       "      <th>1B</th>\n",
       "      <th>SLG</th>\n",
       "    </tr>\n",
       "  </thead>\n",
       "  <tbody>\n",
       "    <tr>\n",
       "      <th>0</th>\n",
       "      <td>aardsda01</td>\n",
       "      <td>2004</td>\n",
       "      <td>1</td>\n",
       "      <td>SFN</td>\n",
       "      <td>NL</td>\n",
       "      <td>11</td>\n",
       "      <td>11.0</td>\n",
       "      <td>0.0</td>\n",
       "      <td>0.0</td>\n",
       "      <td>0.0</td>\n",
       "      <td>...</td>\n",
       "      <td>0.0</td>\n",
       "      <td>0.0</td>\n",
       "      <td>0.0</td>\n",
       "      <td>0.0</td>\n",
       "      <td>0.0</td>\n",
       "      <td>11.0</td>\n",
       "      <td>0.0</td>\n",
       "      <td>0.0</td>\n",
       "      <td>0.0</td>\n",
       "      <td>0.0</td>\n",
       "    </tr>\n",
       "    <tr>\n",
       "      <th>1</th>\n",
       "      <td>aardsda01</td>\n",
       "      <td>2006</td>\n",
       "      <td>1</td>\n",
       "      <td>CHN</td>\n",
       "      <td>NL</td>\n",
       "      <td>45</td>\n",
       "      <td>43.0</td>\n",
       "      <td>2.0</td>\n",
       "      <td>0.0</td>\n",
       "      <td>0.0</td>\n",
       "      <td>...</td>\n",
       "      <td>0.0</td>\n",
       "      <td>0.0</td>\n",
       "      <td>1.0</td>\n",
       "      <td>0.0</td>\n",
       "      <td>0.0</td>\n",
       "      <td>45.0</td>\n",
       "      <td>0.0</td>\n",
       "      <td>0.0</td>\n",
       "      <td>0.0</td>\n",
       "      <td>0.0</td>\n",
       "    </tr>\n",
       "    <tr>\n",
       "      <th>2</th>\n",
       "      <td>aardsda01</td>\n",
       "      <td>2007</td>\n",
       "      <td>1</td>\n",
       "      <td>CHA</td>\n",
       "      <td>AL</td>\n",
       "      <td>25</td>\n",
       "      <td>2.0</td>\n",
       "      <td>0.0</td>\n",
       "      <td>0.0</td>\n",
       "      <td>0.0</td>\n",
       "      <td>...</td>\n",
       "      <td>0.0</td>\n",
       "      <td>0.0</td>\n",
       "      <td>0.0</td>\n",
       "      <td>0.0</td>\n",
       "      <td>0.0</td>\n",
       "      <td>2.0</td>\n",
       "      <td>0.0</td>\n",
       "      <td>0.0</td>\n",
       "      <td>0.0</td>\n",
       "      <td>0.0</td>\n",
       "    </tr>\n",
       "    <tr>\n",
       "      <th>3</th>\n",
       "      <td>aardsda01</td>\n",
       "      <td>2008</td>\n",
       "      <td>1</td>\n",
       "      <td>BOS</td>\n",
       "      <td>AL</td>\n",
       "      <td>47</td>\n",
       "      <td>5.0</td>\n",
       "      <td>1.0</td>\n",
       "      <td>0.0</td>\n",
       "      <td>0.0</td>\n",
       "      <td>...</td>\n",
       "      <td>0.0</td>\n",
       "      <td>0.0</td>\n",
       "      <td>0.0</td>\n",
       "      <td>0.0</td>\n",
       "      <td>0.0</td>\n",
       "      <td>5.0</td>\n",
       "      <td>0.0</td>\n",
       "      <td>0.0</td>\n",
       "      <td>0.0</td>\n",
       "      <td>0.0</td>\n",
       "    </tr>\n",
       "    <tr>\n",
       "      <th>4</th>\n",
       "      <td>aardsda01</td>\n",
       "      <td>2009</td>\n",
       "      <td>1</td>\n",
       "      <td>SEA</td>\n",
       "      <td>AL</td>\n",
       "      <td>73</td>\n",
       "      <td>3.0</td>\n",
       "      <td>0.0</td>\n",
       "      <td>0.0</td>\n",
       "      <td>0.0</td>\n",
       "      <td>...</td>\n",
       "      <td>0.0</td>\n",
       "      <td>0.0</td>\n",
       "      <td>0.0</td>\n",
       "      <td>0.0</td>\n",
       "      <td>0.0</td>\n",
       "      <td>NaN</td>\n",
       "      <td>0.0</td>\n",
       "      <td>0.0</td>\n",
       "      <td>0.0</td>\n",
       "      <td>0.0</td>\n",
       "    </tr>\n",
       "    <tr>\n",
       "      <th>5</th>\n",
       "      <td>aardsda01</td>\n",
       "      <td>2010</td>\n",
       "      <td>1</td>\n",
       "      <td>SEA</td>\n",
       "      <td>AL</td>\n",
       "      <td>53</td>\n",
       "      <td>4.0</td>\n",
       "      <td>0.0</td>\n",
       "      <td>0.0</td>\n",
       "      <td>0.0</td>\n",
       "      <td>...</td>\n",
       "      <td>0.0</td>\n",
       "      <td>0.0</td>\n",
       "      <td>0.0</td>\n",
       "      <td>0.0</td>\n",
       "      <td>0.0</td>\n",
       "      <td>NaN</td>\n",
       "      <td>0.0</td>\n",
       "      <td>0.0</td>\n",
       "      <td>0.0</td>\n",
       "      <td>0.0</td>\n",
       "    </tr>\n",
       "    <tr>\n",
       "      <th>6</th>\n",
       "      <td>aardsda01</td>\n",
       "      <td>2012</td>\n",
       "      <td>1</td>\n",
       "      <td>NYA</td>\n",
       "      <td>AL</td>\n",
       "      <td>1</td>\n",
       "      <td>NaN</td>\n",
       "      <td>NaN</td>\n",
       "      <td>NaN</td>\n",
       "      <td>NaN</td>\n",
       "      <td>...</td>\n",
       "      <td>NaN</td>\n",
       "      <td>NaN</td>\n",
       "      <td>NaN</td>\n",
       "      <td>NaN</td>\n",
       "      <td>NaN</td>\n",
       "      <td>NaN</td>\n",
       "      <td>NaN</td>\n",
       "      <td>NaN</td>\n",
       "      <td>NaN</td>\n",
       "      <td>NaN</td>\n",
       "    </tr>\n",
       "  </tbody>\n",
       "</table>\n",
       "<p>7 rows × 28 columns</p>\n",
       "</div>"
      ],
      "text/plain": [
       "    playerID  yearID  stint teamID lgID   G  G_batting   AB    R    H ...   \\\n",
       "0  aardsda01    2004      1    SFN   NL  11       11.0  0.0  0.0  0.0 ...    \n",
       "1  aardsda01    2006      1    CHN   NL  45       43.0  2.0  0.0  0.0 ...    \n",
       "2  aardsda01    2007      1    CHA   AL  25        2.0  0.0  0.0  0.0 ...    \n",
       "3  aardsda01    2008      1    BOS   AL  47        5.0  1.0  0.0  0.0 ...    \n",
       "4  aardsda01    2009      1    SEA   AL  73        3.0  0.0  0.0  0.0 ...    \n",
       "5  aardsda01    2010      1    SEA   AL  53        4.0  0.0  0.0  0.0 ...    \n",
       "6  aardsda01    2012      1    NYA   AL   1        NaN  NaN  NaN  NaN ...    \n",
       "\n",
       "   IBB  HBP   SH   SF  GIDP  G_old   BA  OBP   1B  SLG  \n",
       "0  0.0  0.0  0.0  0.0   0.0   11.0  0.0  0.0  0.0  0.0  \n",
       "1  0.0  0.0  1.0  0.0   0.0   45.0  0.0  0.0  0.0  0.0  \n",
       "2  0.0  0.0  0.0  0.0   0.0    2.0  0.0  0.0  0.0  0.0  \n",
       "3  0.0  0.0  0.0  0.0   0.0    5.0  0.0  0.0  0.0  0.0  \n",
       "4  0.0  0.0  0.0  0.0   0.0    NaN  0.0  0.0  0.0  0.0  \n",
       "5  0.0  0.0  0.0  0.0   0.0    NaN  0.0  0.0  0.0  0.0  \n",
       "6  NaN  NaN  NaN  NaN   NaN    NaN  NaN  NaN  NaN  NaN  \n",
       "\n",
       "[7 rows x 28 columns]"
      ]
     },
     "execution_count": 13,
     "metadata": {},
     "output_type": "execute_result"
    }
   ],
   "source": [
    "batting_df.head(7)"
   ]
  },
  {
   "cell_type": "markdown",
   "metadata": {},
   "source": [
    "### Adding in Salary Data"
   ]
  },
  {
   "cell_type": "markdown",
   "metadata": {},
   "source": [
    "We now have to add salary data to our data frame. This will give us a good idea at who is undervalued i.e cheap prospects"
   ]
  },
  {
   "cell_type": "code",
   "execution_count": 143,
   "metadata": {
    "collapsed": true
   },
   "outputs": [],
   "source": [
    "# Read in Salary data"
   ]
  },
  {
   "cell_type": "code",
   "execution_count": 14,
   "metadata": {
    "collapsed": true
   },
   "outputs": [],
   "source": [
    "salary_df = pd.read_csv('Salaries.csv')"
   ]
  },
  {
   "cell_type": "code",
   "execution_count": 145,
   "metadata": {
    "collapsed": false
   },
   "outputs": [
    {
     "name": "stdout",
     "output_type": "stream",
     "text": [
      "<class 'pandas.core.frame.DataFrame'>\n",
      "RangeIndex: 23956 entries, 0 to 23955\n",
      "Data columns (total 5 columns):\n",
      "yearID      23956 non-null int64\n",
      "teamID      23956 non-null object\n",
      "lgID        23956 non-null object\n",
      "playerID    23956 non-null object\n",
      "salary      23956 non-null int64\n",
      "dtypes: int64(2), object(3)\n",
      "memory usage: 935.9+ KB\n"
     ]
    }
   ],
   "source": [
    "salary_df.info()"
   ]
  },
  {
   "cell_type": "markdown",
   "metadata": {},
   "source": [
    "##### Since we only have salary data for 1985 and beyond, we need to limit our batting data to 1985 and beyond"
   ]
  },
  {
   "cell_type": "code",
   "execution_count": 15,
   "metadata": {
    "collapsed": false
   },
   "outputs": [],
   "source": [
    "battingtwo_df = batting_df.loc[batting_df['yearID'] >= 1985]"
   ]
  },
  {
   "cell_type": "markdown",
   "metadata": {
    "collapsed": true
   },
   "source": [
    "#### Merge both data frames on playerID and yearID"
   ]
  },
  {
   "cell_type": "code",
   "execution_count": 16,
   "metadata": {
    "collapsed": false
   },
   "outputs": [],
   "source": [
    "test = pd.merge(battingtwo_df, salary_df, on=['playerID','yearID'])"
   ]
  },
  {
   "cell_type": "markdown",
   "metadata": {},
   "source": [
    "## Analyzing the key players lost during the off season"
   ]
  },
  {
   "cell_type": "markdown",
   "metadata": {},
   "source": [
    "The A's lost 3 key players during the 2000 offseason. These were 2000 AL MVP 1st basemen Jason Giambi(giambja01), outfielder Johnny Damon(damonjo01), and infielder Rainer Gustavo Olmedo(saenzol01) *Along with Jason Isringhausen (though we are focusing on offense in this case, Jason was a pitcher) *"
   ]
  },
  {
   "cell_type": "code",
   "execution_count": 28,
   "metadata": {
    "collapsed": true
   },
   "outputs": [],
   "source": [
    "keyplayers_df = test[(test.playerID=='giambja01') | (test.playerID=='damonjo01') | (test.playerID=='saenzol01')]\n",
    "\n",
    "keyplayers2001_df = keyplayers_df[keyplayers_df['yearID'] == 2001]\n",
    "\n",
    "keyplayers2001_df[['playerID','H','2B','3B','HR','OBP','SLG','BA','AB']]\n",
    "\n",
    "keyplayers2001sub_df = keyplayers2001_df[['playerID','H','2B','3B','HR','OBP','SLG','BA','AB','salary']]"
   ]
  },
  {
   "cell_type": "code",
   "execution_count": 30,
   "metadata": {
    "collapsed": false
   },
   "outputs": [
    {
     "data": {
      "text/html": [
       "<div>\n",
       "<table border=\"1\" class=\"dataframe\">\n",
       "  <thead>\n",
       "    <tr style=\"text-align: right;\">\n",
       "      <th></th>\n",
       "      <th>playerID</th>\n",
       "      <th>H</th>\n",
       "      <th>2B</th>\n",
       "      <th>3B</th>\n",
       "      <th>HR</th>\n",
       "      <th>OBP</th>\n",
       "      <th>SLG</th>\n",
       "      <th>BA</th>\n",
       "      <th>AB</th>\n",
       "      <th>salary</th>\n",
       "    </tr>\n",
       "  </thead>\n",
       "  <tbody>\n",
       "    <tr>\n",
       "      <th>4955</th>\n",
       "      <td>damonjo01</td>\n",
       "      <td>165.0</td>\n",
       "      <td>34.0</td>\n",
       "      <td>4.0</td>\n",
       "      <td>9.0</td>\n",
       "      <td>0.323529</td>\n",
       "      <td>0.403727</td>\n",
       "      <td>0.256211</td>\n",
       "      <td>644.0</td>\n",
       "      <td>7100000</td>\n",
       "    </tr>\n",
       "    <tr>\n",
       "      <th>7586</th>\n",
       "      <td>giambja01</td>\n",
       "      <td>178.0</td>\n",
       "      <td>47.0</td>\n",
       "      <td>2.0</td>\n",
       "      <td>38.0</td>\n",
       "      <td>0.476900</td>\n",
       "      <td>0.813462</td>\n",
       "      <td>0.342308</td>\n",
       "      <td>520.0</td>\n",
       "      <td>4103333</td>\n",
       "    </tr>\n",
       "    <tr>\n",
       "      <th>19422</th>\n",
       "      <td>saenzol01</td>\n",
       "      <td>67.0</td>\n",
       "      <td>21.0</td>\n",
       "      <td>1.0</td>\n",
       "      <td>9.0</td>\n",
       "      <td>0.291176</td>\n",
       "      <td>0.449180</td>\n",
       "      <td>0.219672</td>\n",
       "      <td>305.0</td>\n",
       "      <td>290000</td>\n",
       "    </tr>\n",
       "  </tbody>\n",
       "</table>\n",
       "</div>"
      ],
      "text/plain": [
       "        playerID      H    2B   3B    HR       OBP       SLG        BA     AB  \\\n",
       "4955   damonjo01  165.0  34.0  4.0   9.0  0.323529  0.403727  0.256211  644.0   \n",
       "7586   giambja01  178.0  47.0  2.0  38.0  0.476900  0.813462  0.342308  520.0   \n",
       "19422  saenzol01   67.0  21.0  1.0   9.0  0.291176  0.449180  0.219672  305.0   \n",
       "\n",
       "        salary  \n",
       "4955   7100000  \n",
       "7586   4103333  \n",
       "19422   290000  "
      ]
     },
     "execution_count": 30,
     "metadata": {},
     "output_type": "execute_result"
    }
   ],
   "source": [
    "keyplayers2001sub_df"
   ]
  },
  {
   "cell_type": "markdown",
   "metadata": {},
   "source": [
    "   Following the film/book's argument, runs wins games and getting on base means scoring runs. Therefore the higher the percentage that a player is on base, the more runs they'll score. Following this metric (On Base Percentage): We can already see that Johnny Damon is decent getting onto base but Olmedo isnt't that great. So perhaps the A's shouldnt' feel so bad that they are losing those two. Giambi however has a decent OBP and a very good Slugging Average, it's HIS offense that we must focus on replacing."
   ]
  },
  {
   "cell_type": "markdown",
   "metadata": {},
   "source": [
    "# Finding Replacements for the lost three"
   ]
  },
  {
   "cell_type": "markdown",
   "metadata": {},
   "source": [
    "We have three constraints for finding our replacement players:\n",
    "* The total combined salary of the three players cannot exceed 15 million dollars\n",
    "* The combined number of at bats must be equal to or greater than the three lost players\n",
    "* The mean OBP has to be equal to or greater than the mean OBP of the lost players"
   ]
  },
  {
   "cell_type": "markdown",
   "metadata": {},
   "source": [
    "Set up the statistics:"
   ]
  },
  {
   "cell_type": "code",
   "execution_count": 20,
   "metadata": {
    "collapsed": true
   },
   "outputs": [],
   "source": [
    "At_Bat_Total_Lost = keyplayers2001sub_df['AB'].sum()\n",
    "\n",
    "Mean_OBP_Lost = keyplayers2001sub_df['OBP'].mean()\n",
    "\n",
    "test_2001 = test[test.yearID == 2001]"
   ]
  },
  {
   "cell_type": "code",
   "execution_count": 21,
   "metadata": {
    "collapsed": false
   },
   "outputs": [
    {
     "data": {
      "text/plain": [
       "1469.0"
      ]
     },
     "execution_count": 21,
     "metadata": {},
     "output_type": "execute_result"
    }
   ],
   "source": [
    "At_Bat_Total_Lost"
   ]
  },
  {
   "cell_type": "code",
   "execution_count": 22,
   "metadata": {
    "collapsed": false
   },
   "outputs": [
    {
     "data": {
      "text/plain": [
       "0.36386867712807924"
      ]
     },
     "execution_count": 22,
     "metadata": {},
     "output_type": "execute_result"
    }
   ],
   "source": [
    "Mean_OBP_Lost"
   ]
  },
  {
   "cell_type": "markdown",
   "metadata": {},
   "source": [
    "Since the three combined to a total of 1469 At Bats, we would look for a minimum of players with at least 489 At Bats. We should also look for players with OBP greater than or equal to 0.363 "
   ]
  },
  {
   "cell_type": "code",
   "execution_count": 23,
   "metadata": {
    "collapsed": true
   },
   "outputs": [],
   "source": [
    "potentials = test_2001[(test_2001.OBP >= 0.363) & (test_2001.AB >= 489) & (test_2001.teamID_x != 'OAK') & (test_2001.salary < 15000000)]\n",
    "\n",
    "potentials_sorted = potentials.sort_values(['OBP','SLG','salary'], ascending=[True,True, False])\n",
    "\n",
    "slim_potentials = potentials_sorted[['playerID','H','OBP','SLG','HR','AB','salary']]"
   ]
  },
  {
   "cell_type": "code",
   "execution_count": 24,
   "metadata": {
    "collapsed": false
   },
   "outputs": [
    {
     "data": {
      "text/html": [
       "<div>\n",
       "<table border=\"1\" class=\"dataframe\">\n",
       "  <thead>\n",
       "    <tr style=\"text-align: right;\">\n",
       "      <th></th>\n",
       "      <th>playerID</th>\n",
       "      <th>H</th>\n",
       "      <th>OBP</th>\n",
       "      <th>SLG</th>\n",
       "      <th>HR</th>\n",
       "      <th>AB</th>\n",
       "      <th>salary</th>\n",
       "    </tr>\n",
       "  </thead>\n",
       "  <tbody>\n",
       "    <tr>\n",
       "      <th>4088</th>\n",
       "      <td>cirilje01</td>\n",
       "      <td>165.0</td>\n",
       "      <td>0.364103</td>\n",
       "      <td>0.553030</td>\n",
       "      <td>17.0</td>\n",
       "      <td>528.0</td>\n",
       "      <td>4850000</td>\n",
       "    </tr>\n",
       "    <tr>\n",
       "      <th>9823</th>\n",
       "      <td>higgibo02</td>\n",
       "      <td>150.0</td>\n",
       "      <td>0.367089</td>\n",
       "      <td>0.530499</td>\n",
       "      <td>17.0</td>\n",
       "      <td>541.0</td>\n",
       "      <td>5325000</td>\n",
       "    </tr>\n",
       "    <tr>\n",
       "      <th>7734</th>\n",
       "      <td>glaustr01</td>\n",
       "      <td>147.0</td>\n",
       "      <td>0.367232</td>\n",
       "      <td>0.676871</td>\n",
       "      <td>41.0</td>\n",
       "      <td>588.0</td>\n",
       "      <td>1250000</td>\n",
       "    </tr>\n",
       "    <tr>\n",
       "      <th>741</th>\n",
       "      <td>aurilri01</td>\n",
       "      <td>206.0</td>\n",
       "      <td>0.368805</td>\n",
       "      <td>0.704403</td>\n",
       "      <td>37.0</td>\n",
       "      <td>636.0</td>\n",
       "      <td>3250000</td>\n",
       "    </tr>\n",
       "    <tr>\n",
       "      <th>3686</th>\n",
       "      <td>caseyse01</td>\n",
       "      <td>165.0</td>\n",
       "      <td>0.369048</td>\n",
       "      <td>0.506567</td>\n",
       "      <td>13.0</td>\n",
       "      <td>533.0</td>\n",
       "      <td>3000000</td>\n",
       "    </tr>\n",
       "    <tr>\n",
       "      <th>11605</th>\n",
       "      <td>kentje01</td>\n",
       "      <td>181.0</td>\n",
       "      <td>0.369253</td>\n",
       "      <td>0.599671</td>\n",
       "      <td>22.0</td>\n",
       "      <td>607.0</td>\n",
       "      <td>6000000</td>\n",
       "    </tr>\n",
       "    <tr>\n",
       "      <th>7923</th>\n",
       "      <td>gonzaju03</td>\n",
       "      <td>173.0</td>\n",
       "      <td>0.369748</td>\n",
       "      <td>0.725564</td>\n",
       "      <td>35.0</td>\n",
       "      <td>532.0</td>\n",
       "      <td>10000000</td>\n",
       "    </tr>\n",
       "    <tr>\n",
       "      <th>21122</th>\n",
       "      <td>stewash01</td>\n",
       "      <td>202.0</td>\n",
       "      <td>0.371060</td>\n",
       "      <td>0.521875</td>\n",
       "      <td>12.0</td>\n",
       "      <td>640.0</td>\n",
       "      <td>2183333</td>\n",
       "    </tr>\n",
       "    <tr>\n",
       "      <th>2280</th>\n",
       "      <td>boonebr01</td>\n",
       "      <td>206.0</td>\n",
       "      <td>0.372263</td>\n",
       "      <td>0.706260</td>\n",
       "      <td>37.0</td>\n",
       "      <td>623.0</td>\n",
       "      <td>3250000</td>\n",
       "    </tr>\n",
       "    <tr>\n",
       "      <th>8195</th>\n",
       "      <td>greensh01</td>\n",
       "      <td>184.0</td>\n",
       "      <td>0.372325</td>\n",
       "      <td>0.768982</td>\n",
       "      <td>49.0</td>\n",
       "      <td>619.0</td>\n",
       "      <td>12166667</td>\n",
       "    </tr>\n",
       "    <tr>\n",
       "      <th>8276</th>\n",
       "      <td>grievbe01</td>\n",
       "      <td>143.0</td>\n",
       "      <td>0.372457</td>\n",
       "      <td>0.435424</td>\n",
       "      <td>11.0</td>\n",
       "      <td>542.0</td>\n",
       "      <td>2750000</td>\n",
       "    </tr>\n",
       "    <tr>\n",
       "      <th>21418</th>\n",
       "      <td>sweenmi01</td>\n",
       "      <td>170.0</td>\n",
       "      <td>0.374010</td>\n",
       "      <td>0.645796</td>\n",
       "      <td>29.0</td>\n",
       "      <td>559.0</td>\n",
       "      <td>5000000</td>\n",
       "    </tr>\n",
       "    <tr>\n",
       "      <th>15909</th>\n",
       "      <td>nixontr01</td>\n",
       "      <td>150.0</td>\n",
       "      <td>0.376396</td>\n",
       "      <td>0.620561</td>\n",
       "      <td>27.0</td>\n",
       "      <td>535.0</td>\n",
       "      <td>390000</td>\n",
       "    </tr>\n",
       "    <tr>\n",
       "      <th>8497</th>\n",
       "      <td>guerrvl01</td>\n",
       "      <td>184.0</td>\n",
       "      <td>0.377049</td>\n",
       "      <td>0.692821</td>\n",
       "      <td>34.0</td>\n",
       "      <td>599.0</td>\n",
       "      <td>6000000</td>\n",
       "    </tr>\n",
       "    <tr>\n",
       "      <th>10890</th>\n",
       "      <td>jeterde01</td>\n",
       "      <td>191.0</td>\n",
       "      <td>0.377386</td>\n",
       "      <td>0.558632</td>\n",
       "      <td>21.0</td>\n",
       "      <td>614.0</td>\n",
       "      <td>12600000</td>\n",
       "    </tr>\n",
       "    <tr>\n",
       "      <th>17472</th>\n",
       "      <td>pierrju01</td>\n",
       "      <td>202.0</td>\n",
       "      <td>0.378176</td>\n",
       "      <td>0.457050</td>\n",
       "      <td>2.0</td>\n",
       "      <td>617.0</td>\n",
       "      <td>215000</td>\n",
       "    </tr>\n",
       "    <tr>\n",
       "      <th>19082</th>\n",
       "      <td>rolensc01</td>\n",
       "      <td>160.0</td>\n",
       "      <td>0.378254</td>\n",
       "      <td>0.592058</td>\n",
       "      <td>25.0</td>\n",
       "      <td>554.0</td>\n",
       "      <td>5500000</td>\n",
       "    </tr>\n",
       "    <tr>\n",
       "      <th>16694</th>\n",
       "      <td>palmera01</td>\n",
       "      <td>164.0</td>\n",
       "      <td>0.380952</td>\n",
       "      <td>0.720000</td>\n",
       "      <td>47.0</td>\n",
       "      <td>600.0</td>\n",
       "      <td>9000000</td>\n",
       "    </tr>\n",
       "    <tr>\n",
       "      <th>21356</th>\n",
       "      <td>suzukic01</td>\n",
       "      <td>242.0</td>\n",
       "      <td>0.381471</td>\n",
       "      <td>0.502890</td>\n",
       "      <td>8.0</td>\n",
       "      <td>692.0</td>\n",
       "      <td>5666667</td>\n",
       "    </tr>\n",
       "    <tr>\n",
       "      <th>16347</th>\n",
       "      <td>ordonma01</td>\n",
       "      <td>181.0</td>\n",
       "      <td>0.381520</td>\n",
       "      <td>0.640809</td>\n",
       "      <td>31.0</td>\n",
       "      <td>593.0</td>\n",
       "      <td>3750000</td>\n",
       "    </tr>\n",
       "    <tr>\n",
       "      <th>1905</th>\n",
       "      <td>biggicr01</td>\n",
       "      <td>180.0</td>\n",
       "      <td>0.382148</td>\n",
       "      <td>0.529984</td>\n",
       "      <td>20.0</td>\n",
       "      <td>617.0</td>\n",
       "      <td>7750000</td>\n",
       "    </tr>\n",
       "    <tr>\n",
       "      <th>17449</th>\n",
       "      <td>piazzmi01</td>\n",
       "      <td>151.0</td>\n",
       "      <td>0.383944</td>\n",
       "      <td>0.715706</td>\n",
       "      <td>36.0</td>\n",
       "      <td>503.0</td>\n",
       "      <td>13571429</td>\n",
       "    </tr>\n",
       "    <tr>\n",
       "      <th>11793</th>\n",
       "      <td>kleskry01</td>\n",
       "      <td>154.0</td>\n",
       "      <td>0.384013</td>\n",
       "      <td>0.672862</td>\n",
       "      <td>30.0</td>\n",
       "      <td>538.0</td>\n",
       "      <td>5750000</td>\n",
       "    </tr>\n",
       "    <tr>\n",
       "      <th>4426</th>\n",
       "      <td>coninje01</td>\n",
       "      <td>163.0</td>\n",
       "      <td>0.386023</td>\n",
       "      <td>0.503817</td>\n",
       "      <td>14.0</td>\n",
       "      <td>524.0</td>\n",
       "      <td>3000000</td>\n",
       "    </tr>\n",
       "    <tr>\n",
       "      <th>14643</th>\n",
       "      <td>mientdo01</td>\n",
       "      <td>166.0</td>\n",
       "      <td>0.386581</td>\n",
       "      <td>0.523020</td>\n",
       "      <td>15.0</td>\n",
       "      <td>543.0</td>\n",
       "      <td>215000</td>\n",
       "    </tr>\n",
       "    <tr>\n",
       "      <th>15751</th>\n",
       "      <td>nevinph01</td>\n",
       "      <td>167.0</td>\n",
       "      <td>0.387821</td>\n",
       "      <td>0.738095</td>\n",
       "      <td>41.0</td>\n",
       "      <td>546.0</td>\n",
       "      <td>1625000</td>\n",
       "    </tr>\n",
       "    <tr>\n",
       "      <th>6838</th>\n",
       "      <td>floydcl01</td>\n",
       "      <td>176.0</td>\n",
       "      <td>0.389507</td>\n",
       "      <td>0.704505</td>\n",
       "      <td>31.0</td>\n",
       "      <td>555.0</td>\n",
       "      <td>5500000</td>\n",
       "    </tr>\n",
       "    <tr>\n",
       "      <th>61</th>\n",
       "      <td>abreubo01</td>\n",
       "      <td>170.0</td>\n",
       "      <td>0.393466</td>\n",
       "      <td>0.661565</td>\n",
       "      <td>31.0</td>\n",
       "      <td>588.0</td>\n",
       "      <td>4983000</td>\n",
       "    </tr>\n",
       "    <tr>\n",
       "      <th>23688</th>\n",
       "      <td>willibe02</td>\n",
       "      <td>166.0</td>\n",
       "      <td>0.394945</td>\n",
       "      <td>0.618519</td>\n",
       "      <td>26.0</td>\n",
       "      <td>540.0</td>\n",
       "      <td>12357143</td>\n",
       "    </tr>\n",
       "    <tr>\n",
       "      <th>372</th>\n",
       "      <td>aloumo01</td>\n",
       "      <td>170.0</td>\n",
       "      <td>0.395869</td>\n",
       "      <td>0.662768</td>\n",
       "      <td>27.0</td>\n",
       "      <td>513.0</td>\n",
       "      <td>5250000</td>\n",
       "    </tr>\n",
       "    <tr>\n",
       "      <th>885</th>\n",
       "      <td>bagweje01</td>\n",
       "      <td>173.0</td>\n",
       "      <td>0.397490</td>\n",
       "      <td>0.711667</td>\n",
       "      <td>39.0</td>\n",
       "      <td>600.0</td>\n",
       "      <td>6500000</td>\n",
       "    </tr>\n",
       "    <tr>\n",
       "      <th>16187</th>\n",
       "      <td>olerujo01</td>\n",
       "      <td>173.0</td>\n",
       "      <td>0.401180</td>\n",
       "      <td>0.548951</td>\n",
       "      <td>21.0</td>\n",
       "      <td>572.0</td>\n",
       "      <td>6700000</td>\n",
       "    </tr>\n",
       "    <tr>\n",
       "      <th>17844</th>\n",
       "      <td>pujolal01</td>\n",
       "      <td>194.0</td>\n",
       "      <td>0.402963</td>\n",
       "      <td>0.749153</td>\n",
       "      <td>37.0</td>\n",
       "      <td>590.0</td>\n",
       "      <td>200000</td>\n",
       "    </tr>\n",
       "    <tr>\n",
       "      <th>7650</th>\n",
       "      <td>gilesbr02</td>\n",
       "      <td>178.0</td>\n",
       "      <td>0.403561</td>\n",
       "      <td>0.743056</td>\n",
       "      <td>37.0</td>\n",
       "      <td>576.0</td>\n",
       "      <td>7333333</td>\n",
       "    </tr>\n",
       "    <tr>\n",
       "      <th>18066</th>\n",
       "      <td>ramirma02</td>\n",
       "      <td>162.0</td>\n",
       "      <td>0.404839</td>\n",
       "      <td>0.771267</td>\n",
       "      <td>41.0</td>\n",
       "      <td>529.0</td>\n",
       "      <td>13050000</td>\n",
       "    </tr>\n",
       "    <tr>\n",
       "      <th>5332</th>\n",
       "      <td>delgaca01</td>\n",
       "      <td>160.0</td>\n",
       "      <td>0.407670</td>\n",
       "      <td>0.679443</td>\n",
       "      <td>39.0</td>\n",
       "      <td>574.0</td>\n",
       "      <td>13650000</td>\n",
       "    </tr>\n",
       "    <tr>\n",
       "      <th>6063</th>\n",
       "      <td>edmonji01</td>\n",
       "      <td>152.0</td>\n",
       "      <td>0.410214</td>\n",
       "      <td>0.688000</td>\n",
       "      <td>30.0</td>\n",
       "      <td>500.0</td>\n",
       "      <td>6333333</td>\n",
       "    </tr>\n",
       "    <tr>\n",
       "      <th>336</th>\n",
       "      <td>alomaro01</td>\n",
       "      <td>193.0</td>\n",
       "      <td>0.414671</td>\n",
       "      <td>0.652174</td>\n",
       "      <td>20.0</td>\n",
       "      <td>575.0</td>\n",
       "      <td>7750000</td>\n",
       "    </tr>\n",
       "    <tr>\n",
       "      <th>21858</th>\n",
       "      <td>thomeji01</td>\n",
       "      <td>153.0</td>\n",
       "      <td>0.416149</td>\n",
       "      <td>0.813688</td>\n",
       "      <td>49.0</td>\n",
       "      <td>526.0</td>\n",
       "      <td>7875000</td>\n",
       "    </tr>\n",
       "    <tr>\n",
       "      <th>20186</th>\n",
       "      <td>sheffga01</td>\n",
       "      <td>160.0</td>\n",
       "      <td>0.417476</td>\n",
       "      <td>0.730097</td>\n",
       "      <td>36.0</td>\n",
       "      <td>515.0</td>\n",
       "      <td>9916667</td>\n",
       "    </tr>\n",
       "    <tr>\n",
       "      <th>11180</th>\n",
       "      <td>jonesch06</td>\n",
       "      <td>189.0</td>\n",
       "      <td>0.426883</td>\n",
       "      <td>0.755245</td>\n",
       "      <td>38.0</td>\n",
       "      <td>572.0</td>\n",
       "      <td>10333333</td>\n",
       "    </tr>\n",
       "    <tr>\n",
       "      <th>7939</th>\n",
       "      <td>gonzalu01</td>\n",
       "      <td>198.0</td>\n",
       "      <td>0.428571</td>\n",
       "      <td>0.898194</td>\n",
       "      <td>57.0</td>\n",
       "      <td>609.0</td>\n",
       "      <td>4833333</td>\n",
       "    </tr>\n",
       "    <tr>\n",
       "      <th>1756</th>\n",
       "      <td>berkmla01</td>\n",
       "      <td>191.0</td>\n",
       "      <td>0.430233</td>\n",
       "      <td>0.755633</td>\n",
       "      <td>34.0</td>\n",
       "      <td>577.0</td>\n",
       "      <td>305000</td>\n",
       "    </tr>\n",
       "    <tr>\n",
       "      <th>9400</th>\n",
       "      <td>heltoto01</td>\n",
       "      <td>197.0</td>\n",
       "      <td>0.431655</td>\n",
       "      <td>0.858603</td>\n",
       "      <td>49.0</td>\n",
       "      <td>587.0</td>\n",
       "      <td>4950000</td>\n",
       "    </tr>\n",
       "    <tr>\n",
       "      <th>20773</th>\n",
       "      <td>sosasa01</td>\n",
       "      <td>189.0</td>\n",
       "      <td>0.437412</td>\n",
       "      <td>0.975737</td>\n",
       "      <td>64.0</td>\n",
       "      <td>577.0</td>\n",
       "      <td>12500000</td>\n",
       "    </tr>\n",
       "    <tr>\n",
       "      <th>22972</th>\n",
       "      <td>walkela01</td>\n",
       "      <td>174.0</td>\n",
       "      <td>0.449251</td>\n",
       "      <td>0.826962</td>\n",
       "      <td>38.0</td>\n",
       "      <td>497.0</td>\n",
       "      <td>12166667</td>\n",
       "    </tr>\n",
       "  </tbody>\n",
       "</table>\n",
       "</div>"
      ],
      "text/plain": [
       "        playerID      H       OBP       SLG    HR     AB    salary\n",
       "4088   cirilje01  165.0  0.364103  0.553030  17.0  528.0   4850000\n",
       "9823   higgibo02  150.0  0.367089  0.530499  17.0  541.0   5325000\n",
       "7734   glaustr01  147.0  0.367232  0.676871  41.0  588.0   1250000\n",
       "741    aurilri01  206.0  0.368805  0.704403  37.0  636.0   3250000\n",
       "3686   caseyse01  165.0  0.369048  0.506567  13.0  533.0   3000000\n",
       "11605   kentje01  181.0  0.369253  0.599671  22.0  607.0   6000000\n",
       "7923   gonzaju03  173.0  0.369748  0.725564  35.0  532.0  10000000\n",
       "21122  stewash01  202.0  0.371060  0.521875  12.0  640.0   2183333\n",
       "2280   boonebr01  206.0  0.372263  0.706260  37.0  623.0   3250000\n",
       "8195   greensh01  184.0  0.372325  0.768982  49.0  619.0  12166667\n",
       "8276   grievbe01  143.0  0.372457  0.435424  11.0  542.0   2750000\n",
       "21418  sweenmi01  170.0  0.374010  0.645796  29.0  559.0   5000000\n",
       "15909  nixontr01  150.0  0.376396  0.620561  27.0  535.0    390000\n",
       "8497   guerrvl01  184.0  0.377049  0.692821  34.0  599.0   6000000\n",
       "10890  jeterde01  191.0  0.377386  0.558632  21.0  614.0  12600000\n",
       "17472  pierrju01  202.0  0.378176  0.457050   2.0  617.0    215000\n",
       "19082  rolensc01  160.0  0.378254  0.592058  25.0  554.0   5500000\n",
       "16694  palmera01  164.0  0.380952  0.720000  47.0  600.0   9000000\n",
       "21356  suzukic01  242.0  0.381471  0.502890   8.0  692.0   5666667\n",
       "16347  ordonma01  181.0  0.381520  0.640809  31.0  593.0   3750000\n",
       "1905   biggicr01  180.0  0.382148  0.529984  20.0  617.0   7750000\n",
       "17449  piazzmi01  151.0  0.383944  0.715706  36.0  503.0  13571429\n",
       "11793  kleskry01  154.0  0.384013  0.672862  30.0  538.0   5750000\n",
       "4426   coninje01  163.0  0.386023  0.503817  14.0  524.0   3000000\n",
       "14643  mientdo01  166.0  0.386581  0.523020  15.0  543.0    215000\n",
       "15751  nevinph01  167.0  0.387821  0.738095  41.0  546.0   1625000\n",
       "6838   floydcl01  176.0  0.389507  0.704505  31.0  555.0   5500000\n",
       "61     abreubo01  170.0  0.393466  0.661565  31.0  588.0   4983000\n",
       "23688  willibe02  166.0  0.394945  0.618519  26.0  540.0  12357143\n",
       "372     aloumo01  170.0  0.395869  0.662768  27.0  513.0   5250000\n",
       "885    bagweje01  173.0  0.397490  0.711667  39.0  600.0   6500000\n",
       "16187  olerujo01  173.0  0.401180  0.548951  21.0  572.0   6700000\n",
       "17844  pujolal01  194.0  0.402963  0.749153  37.0  590.0    200000\n",
       "7650   gilesbr02  178.0  0.403561  0.743056  37.0  576.0   7333333\n",
       "18066  ramirma02  162.0  0.404839  0.771267  41.0  529.0  13050000\n",
       "5332   delgaca01  160.0  0.407670  0.679443  39.0  574.0  13650000\n",
       "6063   edmonji01  152.0  0.410214  0.688000  30.0  500.0   6333333\n",
       "336    alomaro01  193.0  0.414671  0.652174  20.0  575.0   7750000\n",
       "21858  thomeji01  153.0  0.416149  0.813688  49.0  526.0   7875000\n",
       "20186  sheffga01  160.0  0.417476  0.730097  36.0  515.0   9916667\n",
       "11180  jonesch06  189.0  0.426883  0.755245  38.0  572.0  10333333\n",
       "7939   gonzalu01  198.0  0.428571  0.898194  57.0  609.0   4833333\n",
       "1756   berkmla01  191.0  0.430233  0.755633  34.0  577.0    305000\n",
       "9400   heltoto01  197.0  0.431655  0.858603  49.0  587.0   4950000\n",
       "20773   sosasa01  189.0  0.437412  0.975737  64.0  577.0  12500000\n",
       "22972  walkela01  174.0  0.449251  0.826962  38.0  497.0  12166667"
      ]
     },
     "execution_count": 24,
     "metadata": {},
     "output_type": "execute_result"
    }
   ],
   "source": [
    "slim_potentials"
   ]
  },
  {
   "cell_type": "code",
   "execution_count": 25,
   "metadata": {
    "collapsed": false
   },
   "outputs": [
    {
     "name": "stdout",
     "output_type": "stream",
     "text": [
      "This is the format of your plot grid:\n",
      "[ (1,1) x1,y1 ]  [ (1,2) x2,y2 ]\n",
      "\n"
     ]
    },
    {
     "data": {
      "text/html": [
       "<iframe id=\"igraph\" scrolling=\"no\" style=\"border:none;\" seamless=\"seamless\" src=\"https://plot.ly/~robinphetsa/208.embed\" height=\"600px\" width=\"1000px\"></iframe>"
      ],
      "text/plain": [
       "<plotly.tools.PlotlyDisplay object>"
      ]
     },
     "execution_count": 25,
     "metadata": {},
     "output_type": "execute_result"
    }
   ],
   "source": [
    "import plotly.plotly as py\n",
    "import plotly.graph_objs as go\n",
    "from plotly import tools\n",
    "\n",
    "series1 = go.Scatter(\n",
    "    x = slim_potentials.OBP,\n",
    "    y = slim_potentials.salary,\n",
    "    mode = 'markers',\n",
    "    name= 'On Base Percentage'\n",
    ")\n",
    "\n",
    "series2 = go.Scatter(\n",
    "    x = slim_potentials.SLG,\n",
    "    y = slim_potentials.salary,\n",
    "    mode = 'markers',\n",
    "    name= 'Slugging percentage'\n",
    ")\n",
    "\n",
    "\n",
    "data = [series1,series2]\n",
    "\n",
    "\n",
    "fig = tools.make_subplots(rows=1, cols=2, subplot_titles=('Salary vs OBP','Salary vs SLG'))\n",
    "\n",
    "fig.append_trace(series1, 1, 1)\n",
    "fig.append_trace(series2, 1, 2)\n",
    "\n",
    "fig['layout'].update(height=600, width=1000, title='Salary & Performance')\n",
    "\n",
    "\n",
    "py.iplot(fig)"
   ]
  },
  {
   "cell_type": "markdown",
   "metadata": {},
   "source": [
    "The above scatter plot shows us that there are certainly undervalued players in the market. That is to say, there is very little correlation if any at all between Salary and OBP/SLG percentage. This is good news for us and the A's."
   ]
  },
  {
   "cell_type": "markdown",
   "metadata": {},
   "source": [
    "## Potential Replacements\n"
   ]
  },
  {
   "cell_type": "markdown",
   "metadata": {},
   "source": [
    "There are a few players that stick out:\n",
    "* berkmla01 ID:(1756) OBP: .430 SLG: .775 Salary: 305,000\n",
    "* pujuolal01 ID:(17844) OBP: .402 SLG: .749 Salary: 200,000\n",
    "* mientdo01 ID:(14643) OBP: .386 SLG: .523 Salary: 215,000\n",
    "\n",
    "The above players would get the A's the best bang for their buck. However since the three players are so undervalued, the team can choose two of the above and still sign a higher salaried player (but a slightly better performing one) like Todd Helton or or even Walke from CO."
   ]
  },
  {
   "cell_type": "code",
   "execution_count": 26,
   "metadata": {
    "collapsed": true
   },
   "outputs": [],
   "source": [
    "slim_potentials = potentials_sorted[['playerID','H','OBP','SLG','HR','AB','salary']]"
   ]
  },
  {
   "cell_type": "code",
   "execution_count": 32,
   "metadata": {
    "collapsed": true
   },
   "outputs": [],
   "source": [
    "replacements = slim_potentials[(slim_potentials.playerID == 'heltoto01')| (slim_potentials.playerID=='berkmla01') | (slim_potentials.playerID == 'walkela01')| (slim_potentials.playerID=='pujolal01')| (slim_potentials.playerID=='mientdo01')].sort_values(['OBP','SLG','salary'], ascending=[True,True, False])"
   ]
  },
  {
   "cell_type": "code",
   "execution_count": 27,
   "metadata": {
    "collapsed": false
   },
   "outputs": [
    {
     "data": {
      "text/html": [
       "<div>\n",
       "<table border=\"1\" class=\"dataframe\">\n",
       "  <thead>\n",
       "    <tr style=\"text-align: right;\">\n",
       "      <th></th>\n",
       "      <th>playerID</th>\n",
       "      <th>H</th>\n",
       "      <th>OBP</th>\n",
       "      <th>SLG</th>\n",
       "      <th>HR</th>\n",
       "      <th>AB</th>\n",
       "      <th>salary</th>\n",
       "    </tr>\n",
       "  </thead>\n",
       "  <tbody>\n",
       "    <tr>\n",
       "      <th>14643</th>\n",
       "      <td>mientdo01</td>\n",
       "      <td>166.0</td>\n",
       "      <td>0.386581</td>\n",
       "      <td>0.523020</td>\n",
       "      <td>15.0</td>\n",
       "      <td>543.0</td>\n",
       "      <td>215000</td>\n",
       "    </tr>\n",
       "    <tr>\n",
       "      <th>17844</th>\n",
       "      <td>pujolal01</td>\n",
       "      <td>194.0</td>\n",
       "      <td>0.402963</td>\n",
       "      <td>0.749153</td>\n",
       "      <td>37.0</td>\n",
       "      <td>590.0</td>\n",
       "      <td>200000</td>\n",
       "    </tr>\n",
       "    <tr>\n",
       "      <th>1756</th>\n",
       "      <td>berkmla01</td>\n",
       "      <td>191.0</td>\n",
       "      <td>0.430233</td>\n",
       "      <td>0.755633</td>\n",
       "      <td>34.0</td>\n",
       "      <td>577.0</td>\n",
       "      <td>305000</td>\n",
       "    </tr>\n",
       "    <tr>\n",
       "      <th>9400</th>\n",
       "      <td>heltoto01</td>\n",
       "      <td>197.0</td>\n",
       "      <td>0.431655</td>\n",
       "      <td>0.858603</td>\n",
       "      <td>49.0</td>\n",
       "      <td>587.0</td>\n",
       "      <td>4950000</td>\n",
       "    </tr>\n",
       "    <tr>\n",
       "      <th>22972</th>\n",
       "      <td>walkela01</td>\n",
       "      <td>174.0</td>\n",
       "      <td>0.449251</td>\n",
       "      <td>0.826962</td>\n",
       "      <td>38.0</td>\n",
       "      <td>497.0</td>\n",
       "      <td>12166667</td>\n",
       "    </tr>\n",
       "  </tbody>\n",
       "</table>\n",
       "</div>"
      ],
      "text/plain": [
       "        playerID      H       OBP       SLG    HR     AB    salary\n",
       "14643  mientdo01  166.0  0.386581  0.523020  15.0  543.0    215000\n",
       "17844  pujolal01  194.0  0.402963  0.749153  37.0  590.0    200000\n",
       "1756   berkmla01  191.0  0.430233  0.755633  34.0  577.0    305000\n",
       "9400   heltoto01  197.0  0.431655  0.858603  49.0  587.0   4950000\n",
       "22972  walkela01  174.0  0.449251  0.826962  38.0  497.0  12166667"
      ]
     },
     "execution_count": 27,
     "metadata": {},
     "output_type": "execute_result"
    }
   ],
   "source": [
    "slim_potentials[(slim_potentials.playerID == 'heltoto01')| (slim_potentials.playerID=='berkmla01') | (slim_potentials.playerID == 'walkela01')| (slim_potentials.playerID=='pujolal01')| (slim_potentials.playerID=='mientdo01')].sort_values(['OBP','SLG','salary'], ascending=[True,True, False])"
   ]
  },
  {
   "cell_type": "markdown",
   "metadata": {},
   "source": [
    "These players, espeically the first three would be the best choice for the front office to go after, leaving money to spend elsewhere in improving the team."
   ]
  },
  {
   "cell_type": "code",
   "execution_count": 49,
   "metadata": {
    "collapsed": false,
    "scrolled": true
   },
   "outputs": [
    {
     "data": {
      "text/html": [
       "<iframe id=\"igraph\" scrolling=\"no\" style=\"border:none;\" seamless=\"seamless\" src=\"https://plot.ly/~robinphetsa/226.embed\" height=\"525px\" width=\"100%\"></iframe>"
      ],
      "text/plain": [
       "<plotly.tools.PlotlyDisplay object>"
      ]
     },
     "execution_count": 49,
     "metadata": {},
     "output_type": "execute_result"
    }
   ],
   "source": [
    "series1 = go.Scatter(\n",
    "    x = keyplayers2001sub_df.OBP,\n",
    "    y = keyplayers2001sub_df.salary,\n",
    "    mode = 'markers',\n",
    "    name= 'Lost Three',\n",
    "    marker= dict(size= 14,\n",
    "                    line= dict(width=1),\n",
    "                    color = '#ffff00'\n",
    "                   ),\n",
    "        text= keyplayers2001sub_df['playerID'])\n",
    "\n",
    "\n",
    "series2 = go.Scatter(\n",
    "    x = replacements.OBP,\n",
    "    y = replacements.salary,\n",
    "    mode = 'markers',\n",
    "    name= 'Potential Replacements',\n",
    "    marker= dict(size= 14,\n",
    "                    line= dict(width=1),\n",
    "                    color = '#009933'\n",
    "                   ),\n",
    "        text= replacements['playerID'])\n",
    "\n",
    "\n",
    "\n",
    "\n",
    "data = [series1,series2]\n",
    "\n",
    "layout = dict(title = 'Old vs New'\n",
    "             )\n",
    "\n",
    "fig = dict(data=data, layout=layout)\n",
    "\n",
    "py.iplot(fig)"
   ]
  },
  {
   "cell_type": "markdown",
   "metadata": {},
   "source": [
    "# Conclusion"
   ]
  },
  {
   "cell_type": "markdown",
   "metadata": {},
   "source": [
    "What have we learned? I believe the biggest takeaway here is that baseball analytics was very different. The introduction of statistical processes and metrics changed the way performance valuation was made. We see this through how the league undervalued top performing players.\n",
    "\n",
    "I hope you enjoyed reading through this as much as I did working through it. Thanks for reading!"
   ]
  },
  {
   "cell_type": "code",
   "execution_count": null,
   "metadata": {
    "collapsed": true
   },
   "outputs": [],
   "source": []
  }
 ],
 "metadata": {
  "kernelspec": {
   "display_name": "Python 2",
   "language": "python",
   "name": "python2"
  },
  "language_info": {
   "codemirror_mode": {
    "name": "ipython",
    "version": 2
   },
   "file_extension": ".py",
   "mimetype": "text/x-python",
   "name": "python",
   "nbconvert_exporter": "python",
   "pygments_lexer": "ipython2",
   "version": "2.7.11"
  }
 },
 "nbformat": 4,
 "nbformat_minor": 0
}
